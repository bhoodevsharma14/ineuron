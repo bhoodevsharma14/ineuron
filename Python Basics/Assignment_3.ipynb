{
 "cells": [
  {
   "cell_type": "markdown",
   "id": "4dfbc1b6",
   "metadata": {},
   "source": [
    "### 1. Why are functions advantageous to have in your programs?"
   ]
  },
  {
   "cell_type": "markdown",
   "id": "2c07f392",
   "metadata": {},
   "source": [
    "### Answer.\n",
    "    It will help you to reduce the repetitive line of code(code reusability)."
   ]
  },
  {
   "cell_type": "markdown",
   "id": "5ef4a8f3",
   "metadata": {},
   "source": [
    "### 2. When does the code in a function run: when it&#39;s specified or when it&#39;s called?"
   ]
  },
  {
   "cell_type": "markdown",
   "id": "959da738",
   "metadata": {},
   "source": [
    "### Answer.\n",
    "        Whenever the function get called then olny the code written in the function get executed.\n",
    "        to call function we need to call it.\n",
    "        eg.\n",
    "            #Defining Funtion \n",
    "            def hello(name):\n",
    "                print(f\"Hello {name}, Welcome To Coding World!!!\")\n",
    "            \n",
    "            #calling funtion\n",
    "            hello('Bhoodev')"
   ]
  },
  {
   "cell_type": "markdown",
   "id": "c9dd3fc4",
   "metadata": {},
   "source": [
    "### 3. What statement creates a function?"
   ]
  },
  {
   "cell_type": "markdown",
   "id": "f56613e2",
   "metadata": {},
   "source": [
    "### Answer.\n",
    "        To create a function we use def keyword.\n",
    "        syntax:-\n",
    "                def <name_of_the_function>:\n",
    "        eg:-\n",
    "            def hi():\n",
    "                print(\"Hi\")\n",
    "                \n",
    "                \n",
    "        # to call the funtion\n",
    "            hi()"
   ]
  },
  {
   "cell_type": "markdown",
   "id": "adfa4082",
   "metadata": {},
   "source": [
    "### 4. What is the difference between a function and a function call?\n"
   ]
  },
  {
   "cell_type": "markdown",
   "id": "31e8730e",
   "metadata": {},
   "source": [
    "### Answer.\n",
    "        Suppose we have a block of code we need to write again and again, to reduce the code size and increase \n",
    "        the usability and the modularity of the code we change that block of code in a Function.\n",
    "        So whenever we want that code we just need to call that function and the code is executed."
   ]
  },
  {
   "cell_type": "markdown",
   "id": "cb24dbfc",
   "metadata": {},
   "source": [
    "### 5. How many global scopes are there in a Python program? How many local scopes?\n"
   ]
  },
  {
   "cell_type": "markdown",
   "id": "e21ca76e",
   "metadata": {},
   "source": [
    "### Answer. \n",
    "        To Understand the scope of global and local variable please cosider the example.\n",
    "        1. Here x is Global Variable having value 10\n",
    "\n",
    "        2. Scope of x :- as we declare the variable not inside a funtion or class we are able to access x all \n",
    "                         over the code so thats why we called it as Global Variable.\n",
    "                         See in function fun_1 when we try to print x, to do so interpreter search for x \n",
    "                         inside the local scope of fun_1 if it don't find the x in local scope of fun_1 then\n",
    "                         it search for it in the global scope.\n",
    "                         \n",
    "        3. Scope of x inside function fun_2:-\n",
    "                         Here we declare variable x = 5 this is a local variable of fun_2 when we try to print \n",
    "                         x inside it will return 5 but when the try to print x outside then the value of x is \n",
    "                         10 which is a global variable. This shows that the variable x inside the fun_2 having \n",
    "                         scope limited to the fun_2 only.\n",
    "                         \n",
    "        4. Scope of x in function fun_3:\n",
    "                         As we see in fun_2 x having only scope to function fun_2. But what if we want the \n",
    "                         Global variable x inside a function and we want to perform some operation on it and\n",
    "                         make changes to the global variable, to do so we need to declare the variable x as \n",
    "                         a global variable using keyword 'global', after this we are able to access the global\n",
    "                         variable x inside the fun_3 and we able to modify the value of the global variable.\n",
    "                         "
   ]
  },
  {
   "cell_type": "code",
   "execution_count": 1,
   "id": "357977c6",
   "metadata": {},
   "outputs": [
    {
     "name": "stdout",
     "output_type": "stream",
     "text": [
      "Value of x inside fun_1 is 10\n",
      " x after fun_1 10\n",
      "\n",
      "Value of x inside fun_2 after is 5\n",
      " x after fun_2 10\n",
      "\n",
      "Value of x inside fun_3 before is 10\n",
      "Value of x inside fun_3 After is 15\n",
      " x after fun_3 15\n",
      "\n"
     ]
    }
   ],
   "source": [
    "x = 10 # Global Variable \n",
    "\n",
    "def fun_1():\n",
    "    print(f\"Value of x inside fun_1 is {x}\")\n",
    "def fun_2():\n",
    "    x = 5 #Local Variable of funtion\n",
    "    print(f\"Value of x inside fun_2 after is {x}\")\n",
    "def fun_3():\n",
    "    global x\n",
    "    print(f\"Value of x inside fun_3 before is {x}\")\n",
    "    x = 15\n",
    "    print(f\"Value of x inside fun_3 After is {x}\")\n",
    "\n",
    "fun_1()\n",
    "print(f\" x after fun_1 {x}\\n\")\n",
    "fun_2()\n",
    "print(f\" x after fun_2 {x}\\n\")\n",
    "fun_3()\n",
    "print(f\" x after fun_3 {x}\\n\")"
   ]
  },
  {
   "cell_type": "markdown",
   "id": "9ad2ec5e",
   "metadata": {},
   "source": [
    "### 6. What happens to variables in a local scope when the function call returns?"
   ]
  },
  {
   "cell_type": "markdown",
   "id": "eefd3679",
   "metadata": {},
   "source": [
    "### Answer.\n",
    "        After the function call the return the local variable no longer in use so garbage collector will \n",
    "        destroy the variable."
   ]
  },
  {
   "cell_type": "markdown",
   "id": "4b0ee872",
   "metadata": {},
   "source": [
    "### 7. What is the concept of a return value? Is it possible to have a return value in an expression?\n"
   ]
  },
  {
   "cell_type": "markdown",
   "id": "be5a5ab9",
   "metadata": {},
   "source": [
    "### Answer.\n",
    "        Whenever a function is called it suppose to perform some operation or functionality after that it will\n",
    "        return the result of the operation or functionality if it does not return any thing then it is by\n",
    "        returns None.\n",
    "        Yes it is possible to use the returned value to be used in expression. \n",
    "        eg.\n",
    "        def even(num):\n",
    "            return num%2 == 0\n",
    "        if even(231241):\n",
    "            print(\"the given number is an even and we can perform any operation on it\")\n",
    "        else:\n",
    "            print(\"Not an even Number do whatever you want to do\")"
   ]
  },
  {
   "cell_type": "markdown",
   "id": "e456ebc4",
   "metadata": {},
   "source": [
    "### 8. If a function does not have a return statement, what is the return value of a call to that function?\n"
   ]
  },
  {
   "cell_type": "markdown",
   "id": "6fbcd498",
   "metadata": {},
   "source": [
    "### Answer.\n",
    "        None"
   ]
  },
  {
   "cell_type": "markdown",
   "id": "d65ba536",
   "metadata": {},
   "source": [
    "### 9. How do you make a function variable refer to the global variable?\n"
   ]
  },
  {
   "cell_type": "markdown",
   "id": "1b51b3b9",
   "metadata": {},
   "source": [
    "### Answer.\n",
    "        By default if the function is not having that variable in there local scope then it will search for \n",
    "        that variable in the global scope we can use this global scope variable BUT if we want to reassign \n",
    "        the value of that variable we cannot do untill we do not specify to refer to the global variable.\n",
    "        To call global variable inside function scope we use 'global' keyword.\n",
    "        \n",
    "        Eg.1\n",
    "        \n",
    "        x = 10\n",
    "        def do_somthing()\n",
    "            print(f\" x inside func. {x} \")\n",
    "        \n",
    "        do_somthing()\n",
    "        print(f\"outside {x}\")\n",
    "        \n",
    "        output==> x inside func. 10\n",
    "                  outside 10\n",
    "        \n",
    "        Eg.2\n",
    "        x = 10\n",
    "        def do_somthing()\n",
    "            x = 12\n",
    "            print(f\" x inside func. {x} \")\n",
    "        \n",
    "        do_somthing()\n",
    "        print(f\"outside {x}\")\n",
    "        \n",
    "        output==> x inside func. 12\n",
    "                  outside 10\n",
    "\n",
    "        Eg.3\n",
    "        x = 10\n",
    "        def do_somthing()\n",
    "            global x\n",
    "            x = 12\n",
    "            print(f\" x inside func. {x} \")\n",
    "        \n",
    "        do_somthing()\n",
    "        print(f\"outside {x}\")\n",
    "        \n",
    "        output==> x inside func. 12\n",
    "                  outside 12"
   ]
  },
  {
   "cell_type": "markdown",
   "id": "f00db33e",
   "metadata": {},
   "source": [
    "### 10. What is the data type of None?\n"
   ]
  },
  {
   "cell_type": "markdown",
   "id": "62cb900c",
   "metadata": {},
   "source": [
    "### Answer.\n",
    "        NoneType"
   ]
  },
  {
   "cell_type": "markdown",
   "id": "bf1520c7",
   "metadata": {},
   "source": [
    "### 11. What does the sentence import areallyourpetsnamederic do?\n"
   ]
  },
  {
   "cell_type": "markdown",
   "id": "3e618361",
   "metadata": {},
   "source": [
    "### Answer.\n",
    "        it will try to import the module name areallyourpetsnamederic"
   ]
  },
  {
   "cell_type": "markdown",
   "id": "e947e300",
   "metadata": {},
   "source": [
    "### 12. If you had a bacon() feature in a spam module, what would you call it after importing spam?\n"
   ]
  },
  {
   "cell_type": "markdown",
   "id": "f245be6e",
   "metadata": {},
   "source": [
    "### Answer.\n",
    "        spam.bacon()"
   ]
  },
  {
   "cell_type": "markdown",
   "id": "65428316",
   "metadata": {},
   "source": [
    "### 13. What can you do to save a programme from crashing if it encounters an error?\n"
   ]
  },
  {
   "cell_type": "markdown",
   "id": "7b94d4c6",
   "metadata": {},
   "source": [
    "### Answer.\n",
    "    By using Exception handing feature in programme we can save our programme from crashing\n",
    "    \n",
    "    Eg.\n",
    "    \n",
    "    try:\n",
    "        <CODE>\n",
    "    except:\n",
    "        <What to do when encounter error or exception>\n"
   ]
  },
  {
   "cell_type": "markdown",
   "id": "3fb8f20f",
   "metadata": {},
   "source": [
    "### 14. What is the purpose of the try clause? What is the purpose of the except clause?"
   ]
  },
  {
   "cell_type": "markdown",
   "id": "c962faec",
   "metadata": {},
   "source": [
    "### Answer.\n",
    "        try clause is used when we are having some sort of doubt that code may behave abnormaly due to any\n",
    "        any reason so we put that code in try clause.\n",
    "        except clause contain code or statement which will execute when error or exception has occured in the \n",
    "        try clause."
   ]
  }
 ],
 "metadata": {
  "kernelspec": {
   "display_name": "Python 3 (ipykernel)",
   "language": "python",
   "name": "python3"
  },
  "language_info": {
   "codemirror_mode": {
    "name": "ipython",
    "version": 3
   },
   "file_extension": ".py",
   "mimetype": "text/x-python",
   "name": "python",
   "nbconvert_exporter": "python",
   "pygments_lexer": "ipython3",
   "version": "3.9.7"
  }
 },
 "nbformat": 4,
 "nbformat_minor": 5
}
