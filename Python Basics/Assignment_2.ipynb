{
 "cells": [
  {
   "cell_type": "markdown",
   "id": "3657240d",
   "metadata": {},
   "source": [
    "## 1.What are the two values of the Boolean data type? How do you write them?"
   ]
  },
  {
   "cell_type": "markdown",
   "id": "b0a0fcaf",
   "metadata": {},
   "source": [
    "### Answer.\n",
    "        True\n",
    "        False"
   ]
  },
  {
   "cell_type": "markdown",
   "id": "bdd7b001",
   "metadata": {},
   "source": [
    "## 2. What are the three different types of Boolean operators?"
   ]
  },
  {
   "cell_type": "markdown",
   "id": "7fc59925",
   "metadata": {},
   "source": [
    "### Answer.\n",
    "        Three Type of Boolean operators are \n",
    "            1. and\n",
    "            2. or\n",
    "            3. not"
   ]
  },
  {
   "cell_type": "markdown",
   "id": "e102c59a",
   "metadata": {},
   "source": [
    "## 3. Make a list of each Boolean operator&#39;s truth tables (i.e. every possible combination of Boolean values for the operator and what it evaluate )."
   ]
  },
  {
   "cell_type": "markdown",
   "id": "47dadc41",
   "metadata": {},
   "source": [
    "### Answer.\n",
    "        A          B          A and B          A or B          not A          not B\n",
    "       True       True         True             True            False          False\n",
    "       True       False        False            True            False          True \n",
    "       False      True         False            True            True           False\n",
    "       False      False        False            Flase           True           True"
   ]
  },
  {
   "cell_type": "markdown",
   "id": "19082a4d",
   "metadata": {},
   "source": [
    "## 4. What are the values of the following expressions?\n",
    "    1. (5 > 4) and (3 == 5)\n",
    "    2. not (5 > 4)\n",
    "    3. (5 > 4) or (3 == 5)\n",
    "    4. not ((5 > 4) or (3 == 5))\n",
    "    5. (True and True) and (True == False)\n",
    "    6. (not False) or (not True)"
   ]
  },
  {
   "cell_type": "markdown",
   "id": "e70acd91",
   "metadata": {},
   "source": [
    "### Answer.\n",
    "    1. False\n",
    "    2. False\n",
    "    3. True\n",
    "    4. False\n",
    "    5. False\n",
    "    6. True"
   ]
  },
  {
   "cell_type": "markdown",
   "id": "846e01a0",
   "metadata": {},
   "source": [
    "## 5. What are the six comparison operators?"
   ]
  },
  {
   "cell_type": "markdown",
   "id": "67d5e862",
   "metadata": {},
   "source": [
    "### Answer.\n",
    "    1. equal to :- ==\n",
    "    2. greater than:- >\n",
    "    3. less than: <\n",
    "    4. greater than equal to:- >=\n",
    "    5. less than equal to :-  <=\n",
    "    6. not ewauals to : !="
   ]
  },
  {
   "cell_type": "markdown",
   "id": "43fe6676",
   "metadata": {},
   "source": [
    "## 6. How do you tell the difference between the equal to and assignment operators?Describe a condition and when you would use one."
   ]
  },
  {
   "cell_type": "markdown",
   "id": "3e850b1a",
   "metadata": {},
   "source": [
    "### Answer.\n",
    "    equal to operator:- equal to operator is represented by ==, and generally it is used to comare the both \n",
    "                        the side of the operator are equal or not according to that it will return True or \n",
    "                        False\n",
    "                        eg:- a,b = 3,4\n",
    "                             a == b # this will return False\n",
    "                             a,b = 5,5\n",
    "                             a == b # this will return True\n",
    "    assignment operator:- it is used to assign the any value to perticular variable.It is represented by =.\n",
    "                          eg:- a = 45 # here we are assigning the 45 to variable a."
   ]
  },
  {
   "cell_type": "markdown",
   "id": "0a76c720",
   "metadata": {},
   "source": [
    "## 7. Identify the three blocks in this code:\n",
    "    spam = 0\n",
    "    if spam == 10:\n",
    "    print('eggs')\n",
    "    if spam > 5:\n",
    "    print('bacon')\n",
    "    else:\n",
    "    print('ham')\n",
    "    print('spam')\n",
    "    print('spam')"
   ]
  },
  {
   "cell_type": "markdown",
   "id": "b3369094",
   "metadata": {},
   "source": [
    "### Answer.\n",
    "        first block :- \n",
    "                        if spam == 10:\n",
    "                            print('eggs')\n",
    "        Second block :-\n",
    "                        if spam > 5:\n",
    "                            print('bacon')\n",
    "        Thrird block :- \n",
    "                        else:\n",
    "                            print('ham')\n",
    "                            print('spam')\n",
    "                            print('spam')"
   ]
  },
  {
   "cell_type": "markdown",
   "id": "6fd0eeba",
   "metadata": {},
   "source": [
    "## 8. Write code that prints Hello if 1 is stored in spam, prints Howdy if 2 is stored in spam, and prints Greetings! if anything else is stored in spam."
   ]
  },
  {
   "cell_type": "code",
   "execution_count": 1,
   "id": "0fcca452",
   "metadata": {},
   "outputs": [
    {
     "name": "stdout",
     "output_type": "stream",
     "text": [
      "Greetings\n"
     ]
    }
   ],
   "source": [
    "spam = None\n",
    "if spam == 1:\n",
    "    print('Hello')\n",
    "elif spam == 2:\n",
    "    print('Howdy')\n",
    "else:\n",
    "    print('Greetings')"
   ]
  },
  {
   "cell_type": "markdown",
   "id": "b56edafe",
   "metadata": {},
   "source": [
    "## 9.If your programme is stuck in an endless loop, what keys you’ll press?"
   ]
  },
  {
   "cell_type": "markdown",
   "id": "be016bab",
   "metadata": {},
   "source": [
    "### Answer.                            \n",
    "            Ctrl + c"
   ]
  },
  {
   "cell_type": "markdown",
   "id": "35d125ce",
   "metadata": {},
   "source": [
    "## 10. How can you tell the difference between break and continue?"
   ]
  },
  {
   "cell_type": "markdown",
   "id": "f678d4d3",
   "metadata": {},
   "source": [
    "### Answer.\n",
    "            to under stand continue and break lets take an example.\n",
    "            l = [1,2,3,4,5,6,7,8,9]\n",
    "            even = []\n",
    "            odd_without_3 = []\n",
    "            for num in l:\n",
    "                if num % 2 == 0:\n",
    "                    even.append(num)\n",
    "                else:\n",
    "                    if num == 3:\n",
    "                        continue\n",
    "                    if num == 7:\n",
    "                        break\n",
    "                odd_without_3.append(num)\n",
    "            print(even)\n",
    "            print(odd_without_3)\n",
    "            \n",
    "            In Above Example we can see the use of continue and break\n",
    "            continue is used to again go to the for loop statement without executing the remaining statement\n",
    "            while break will break the loop and jump out of the loop."
   ]
  },
  {
   "cell_type": "code",
   "execution_count": 2,
   "id": "bd6582d0",
   "metadata": {},
   "outputs": [
    {
     "name": "stdout",
     "output_type": "stream",
     "text": [
      "[2, 4, 6]\n",
      "[1, 5]\n"
     ]
    }
   ],
   "source": [
    "l = [1,2,3,4,5,6,7,8,9]\n",
    "even = []\n",
    "odd_without_3 = []\n",
    "for num in l:\n",
    "    if num % 2 == 0:\n",
    "        even.append(num)\n",
    "    else:\n",
    "        if num == 3:\n",
    "            continue\n",
    "        if num == 7:\n",
    "            break\n",
    "        odd_without_3.append(num)\n",
    "print(even)\n",
    "print(odd_without_3)\n"
   ]
  },
  {
   "cell_type": "markdown",
   "id": "21923a20",
   "metadata": {},
   "source": [
    "## 11. In a for loop, what is the difference between range(10), range(0, 10), and range(0, 10, 1)?"
   ]
  },
  {
   "cell_type": "markdown",
   "id": "3859d933",
   "metadata": {},
   "source": [
    "### Answer.\n",
    "        there is no difference between the range(10) range(0,10) and range(0,10,1) in case of output all three\n",
    "        are representing the same range but the way of representation is different\n",
    "        range(10) it starts from 0(default lower bound) with step of 1(default step)\n",
    "        range(0,10) it will specifically mention that it should be started from 0 and step is 1(default step)\n",
    "        range(0,10,1) we are specifically saying start from 0, upper bound is 10 and step is 1"
   ]
  },
  {
   "cell_type": "markdown",
   "id": "092b3266",
   "metadata": {},
   "source": [
    "## 12. Write a short program that prints the numbers 1 to 10 using a for loop. Then write an equivalent program that prints the numbers 1 to 10 using a while loop."
   ]
  },
  {
   "cell_type": "markdown",
   "id": "105fc830",
   "metadata": {},
   "source": [
    "### Answer."
   ]
  },
  {
   "cell_type": "code",
   "execution_count": 3,
   "id": "518dd020",
   "metadata": {},
   "outputs": [
    {
     "name": "stdout",
     "output_type": "stream",
     "text": [
      "1\n",
      "2\n",
      "3\n",
      "4\n",
      "5\n",
      "6\n",
      "7\n",
      "8\n",
      "9\n"
     ]
    }
   ],
   "source": [
    "# For loop\n",
    "for i in range(1,10): # considering 10 in not included otherwise upper bount will be 11\n",
    "    print(i)"
   ]
  },
  {
   "cell_type": "code",
   "execution_count": 4,
   "id": "2a4b8369",
   "metadata": {},
   "outputs": [
    {
     "name": "stdout",
     "output_type": "stream",
     "text": [
      "1\n",
      "2\n",
      "3\n",
      "4\n",
      "5\n",
      "6\n",
      "7\n",
      "8\n",
      "9\n"
     ]
    }
   ],
   "source": [
    "l = [1,2,3,4,5,6,7,8,9]\n",
    "i = 0\n",
    "while i < len(l):\n",
    "    print(l[i])\n",
    "    i+=1"
   ]
  },
  {
   "cell_type": "markdown",
   "id": "87622027",
   "metadata": {},
   "source": [
    "## 13. If you had a function named bacon() inside a module named spam, how would you call it after importing spam?"
   ]
  },
  {
   "cell_type": "markdown",
   "id": "fd1ae0e2",
   "metadata": {},
   "source": [
    "### Answer.\n",
    "        spam.bacon()"
   ]
  }
 ],
 "metadata": {
  "interpreter": {
   "hash": "806d70df50f06d85a242fdba44db869d5757c87ef9ed9f3f9f73c232fe14caf4"
  },
  "kernelspec": {
   "display_name": "Python 3 (ipykernel)",
   "language": "python",
   "name": "python3"
  },
  "language_info": {
   "codemirror_mode": {
    "name": "ipython",
    "version": 3
   },
   "file_extension": ".py",
   "mimetype": "text/x-python",
   "name": "python",
   "nbconvert_exporter": "python",
   "pygments_lexer": "ipython3",
   "version": "3.9.7"
  }
 },
 "nbformat": 4,
 "nbformat_minor": 5
}
