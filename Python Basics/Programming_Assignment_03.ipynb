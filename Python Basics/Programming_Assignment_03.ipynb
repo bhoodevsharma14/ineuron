{
 "cells": [
  {
   "cell_type": "markdown",
   "id": "1a78fe7b",
   "metadata": {},
   "source": [
    "### 1. Write a Python Program to Check if a Number is Positive, Negative or Zero?"
   ]
  },
  {
   "cell_type": "code",
   "execution_count": 3,
   "id": "10f56f65",
   "metadata": {},
   "outputs": [
    {
     "name": "stdout",
     "output_type": "stream",
     "text": [
      "Please enter a number: 0\n",
      "Given Number is ZERO!!\n"
     ]
    }
   ],
   "source": [
    "number = int(input(\"Please enter a number: \"))\n",
    "if number < 0:\n",
    "    print(\"Given Number is a Negative Number!!\")\n",
    "elif number > 0:\n",
    "    print(\"Given Number is a Positive Number!!\")\n",
    "elif number == 0:\n",
    "    print(\"Given Number is ZERO!!\")"
   ]
  },
  {
   "cell_type": "markdown",
   "id": "99d603c0",
   "metadata": {},
   "source": [
    "## 2. Write a Python Program to Check if a Number is Odd or Even?"
   ]
  },
  {
   "cell_type": "code",
   "execution_count": 6,
   "id": "067f5934",
   "metadata": {},
   "outputs": [
    {
     "name": "stdout",
     "output_type": "stream",
     "text": [
      "Please Enter a Number: 6\n",
      "Given Number is EVEN !!\n"
     ]
    }
   ],
   "source": [
    "number = int(input(\"Please Enter a Number: \"))\n",
    "if number % 2 == 0 :\n",
    "    print(\"Given Number is EVEN !!\")\n",
    "else:\n",
    "    print(\"Given Number is ODD!!\")"
   ]
  },
  {
   "cell_type": "markdown",
   "id": "57378cd9",
   "metadata": {},
   "source": [
    "### 3. Write a Python Program to Check Leap Year?"
   ]
  },
  {
   "cell_type": "code",
   "execution_count": 9,
   "id": "48290b83",
   "metadata": {},
   "outputs": [
    {
     "name": "stdout",
     "output_type": "stream",
     "text": [
      "Enter A year to Verify for Leap Year: 1800\n",
      "Given Year is Not a Leap Year!!\n"
     ]
    }
   ],
   "source": [
    "year = int(input(\"Enter A year to Verify for Leap Year: \"))\n",
    "if year % 100 == 0 :\n",
    "    if year % 400 == 0:\n",
    "        print(\"Given Year is a Leap Year!!\")\n",
    "    else:\n",
    "        print(\"Given Year is Not a Leap Year!!\")\n",
    "else:\n",
    "    if year % 4 == 0 :\n",
    "        print(\"Given Year is a Leap Year!!\")\n",
    "    else:\n",
    "        print(\"Given Year is Not a Leap Year!!\")    "
   ]
  },
  {
   "cell_type": "markdown",
   "id": "5b8af5fb",
   "metadata": {},
   "source": [
    "### 4. Write a Python Program to Check Prime Number?"
   ]
  },
  {
   "cell_type": "code",
   "execution_count": 14,
   "id": "69e4cc5e",
   "metadata": {},
   "outputs": [
    {
     "name": "stdout",
     "output_type": "stream",
     "text": [
      "Please enter a number: 6\n",
      "Given Number is a NON-Prime Number!!\n"
     ]
    }
   ],
   "source": [
    "number = int(input(\"Please enter a number: \"))\n",
    "factors = 2\n",
    "for i in range(2,number):\n",
    "    if number % i == 0:\n",
    "        factors+=1\n",
    "        break\n",
    "if factors == 2:\n",
    "    print(\"Given Number is a Prime Number!!\")\n",
    "else:\n",
    "    print(\"Given Number is a NON-Prime Number!!\")"
   ]
  },
  {
   "cell_type": "markdown",
   "id": "dbeb22ce",
   "metadata": {},
   "source": [
    "### 5. Write a Python Program to Print all Prime Numbers in an Interval of 1-10000?"
   ]
  },
  {
   "cell_type": "code",
   "execution_count": null,
   "id": "8f40f9a5",
   "metadata": {},
   "outputs": [],
   "source": [
    "for i in range(2,10000):\n",
    "    fac = 2\n",
    "    for j in range(2,i):\n",
    "        if i % j == 0:\n",
    "            fac +=1\n",
    "            break\n",
    "    if fac == 2:\n",
    "        print(i,end = ',')\n",
    "        "
   ]
  },
  {
   "cell_type": "code",
   "execution_count": null,
   "id": "8adbbc62",
   "metadata": {},
   "outputs": [],
   "source": []
  }
 ],
 "metadata": {
  "kernelspec": {
   "display_name": "Python 3 (ipykernel)",
   "language": "python",
   "name": "python3"
  },
  "language_info": {
   "codemirror_mode": {
    "name": "ipython",
    "version": 3
   },
   "file_extension": ".py",
   "mimetype": "text/x-python",
   "name": "python",
   "nbconvert_exporter": "python",
   "pygments_lexer": "ipython3",
   "version": "3.8.10"
  }
 },
 "nbformat": 4,
 "nbformat_minor": 5
}
