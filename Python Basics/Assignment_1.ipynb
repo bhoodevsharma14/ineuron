{
 "cells": [
  {
   "cell_type": "markdown",
   "id": "e27b27d2",
   "metadata": {},
   "source": [
    "## 1. In the below elements which of them are values or an expression? eg:- values can be integer or string and expressions will be mathematical operators.\n",
    "    *\n",
    "\n",
    "    'hello'\n",
    "\n",
    "    -87.8\n",
    "\n",
    "    -\n",
    "\n",
    "    /\n",
    "\n",
    "    +\n",
    "\n",
    "    6"
   ]
  },
  {
   "cell_type": "markdown",
   "id": "fe8531ee",
   "metadata": {},
   "source": [
    "#### Values :- \n",
    "              'hello' (String)\n",
    "              -87.8 (Float)\n",
    "              6 (Integer)\n",
    "\n",
    "#### Expressions:- \n",
    "              * (multiplication)\n",
    "              - (substraction)\n",
    "              / (float division)\n",
    "              + (addition)"
   ]
  },
  {
   "cell_type": "markdown",
   "id": "5c49cb8e",
   "metadata": {},
   "source": [
    "## 2. What is the difference between string and variable?"
   ]
  },
  {
   "cell_type": "markdown",
   "id": "6c1262df",
   "metadata": {},
   "source": [
    "### Answer.\n",
    "          String is a datatype, anything which is srounded by ' ',\" \" or \"\"\" \"\"\"  are considered as String.\n",
    "          we can put any thing inside a string.\n",
    "          for example:-\n",
    "                        \"this is an example of string 1234sldfnglj!@+_)(*&\"\n",
    "\n",
    "          Variable is somthing that holds the location of the data which is currently in the memory and \n",
    "          whenever we call that variable it will return the value or the data presented at that location.\n",
    "          for example:-\n",
    "                        a = \"sdfg2345\"\n",
    "                        b = 23\n",
    "                        here, a and b are variable a is storing location of the string \"sdfg2345\"\n",
    "                        and b is storing 23            "
   ]
  },
  {
   "cell_type": "markdown",
   "id": "3e399260",
   "metadata": {},
   "source": [
    "## 3. Describe three different data types."
   ]
  },
  {
   "cell_type": "markdown",
   "id": "4d85fce0",
   "metadata": {},
   "source": [
    "### Answer.\n",
    "        Integer (int) :- any whole number is consider as Integer it may be positive or negative\n",
    "                         eg. x = 369\n",
    "        Boolean (bool):- if any variable contain True or False than that variable is considered as Boolean type \n",
    "                         of variable\n",
    "                         eg. z = True\n",
    "        List (list)   :- a variable is consider as of list data type when it hold values iside [] these sqare \n",
    "                        bracket inside these sqare brackets there can be any data\n",
    "                         eg.[36,'sadf',True,45.654,False]"
   ]
  },
  {
   "cell_type": "markdown",
   "id": "83ee5d47",
   "metadata": {},
   "source": [
    "## 4. What is an expression made up of? What do all expressions do?"
   ]
  },
  {
   "cell_type": "markdown",
   "id": "4f610ad5",
   "metadata": {},
   "source": [
    "### Answer. \n",
    "        expression are the combination of opration and the data or values on which operation is performed and\n",
    "        somthing is evaluated according to the operation.\n",
    "        for eg. c = a + b ,here we are assigning some values to variable c this is also an expression \n",
    "        and we are performing addition operation on a and b this is also an expression.\n",
    "        There are different type of expression which performs different type of operations\n",
    "        == ,< , > ,<=,>=,and, or,+,-,*,/,// etc. "
   ]
  },
  {
   "cell_type": "markdown",
   "id": "08a00301",
   "metadata": {},
   "source": [
    "## 5. This assignment statements, like spam = 10. What is the difference between an expression and a statement?"
   ]
  },
  {
   "cell_type": "markdown",
   "id": "f62e40f3",
   "metadata": {},
   "source": [
    "### Answer.\n",
    "        A piece of code evaluate to a value is called Expression.\n",
    "        a piece of code that perform any sort of task is called Statement.\n",
    "        spam = 10 is a statement because it assigning value to spam variable it is not evaluating anything. "
   ]
  },
  {
   "cell_type": "markdown",
   "id": "6bfdca11",
   "metadata": {},
   "source": [
    "## 6. After running the following code, what does the variable bacon contain?\n",
    "    bacon = 22\n",
    "    bacon + 1"
   ]
  },
  {
   "cell_type": "markdown",
   "id": "2bec6f13",
   "metadata": {},
   "source": [
    "### Answer.\n",
    "        bacon = 22 "
   ]
  },
  {
   "cell_type": "markdown",
   "id": "f18f2b50",
   "metadata": {},
   "source": [
    "## 7. What should the values of the following two terms be?\n",
    "    'spam' + 'spamspam'\n",
    "    'spam' * 3"
   ]
  },
  {
   "cell_type": "markdown",
   "id": "ab264a21",
   "metadata": {},
   "source": [
    "### Answer.\n",
    "        'spam' + 'spamspam' will generate output => 'spamspamspam'\n",
    "        'spam' * 3 will generate output => 'spamspamspam'"
   ]
  },
  {
   "cell_type": "markdown",
   "id": "35faa8a0",
   "metadata": {},
   "source": [
    "## 8. Why is eggs a valid variable name while 100 is invalid?"
   ]
  },
  {
   "cell_type": "markdown",
   "id": "47505ea5",
   "metadata": {},
   "source": [
    "### Answer.\n",
    "        this is because python get confused, 100 is a integer type and integer are predefined datatype and they \n",
    "        connot be used as variable name"
   ]
  },
  {
   "cell_type": "markdown",
   "id": "a32e31b2",
   "metadata": {},
   "source": [
    "## 9. What three functions can be used to get the integer, floating-point number, or string version of a value?"
   ]
  },
  {
   "cell_type": "markdown",
   "id": "72021d21",
   "metadata": {},
   "source": [
    "### Answer.\n",
    "        suppose you have a variable x = 10.25\n",
    "        to get ineger of out of x =>  int(x) \n",
    "        output will be => 10\n",
    "        \n",
    "        to get floating-point of x => float(x)     \n",
    "        output will be => 10.25\n",
    "        \n",
    "        to get string of x => str(x)\n",
    "        output will be => '10.25'"
   ]
  },
  {
   "cell_type": "markdown",
   "id": "dcf0c952",
   "metadata": {},
   "source": [
    "## 10. Why does this expression cause an error? How can you fix it? \n",
    "    'I have eaten' + 99 + 'burritos.'"
   ]
  },
  {
   "cell_type": "markdown",
   "id": "438eec71",
   "metadata": {},
   "source": [
    "### Answer.\n",
    "        this expression will throw error because we are performing addition(concatination in casem of String) \n",
    "        between different data type of values. String type of value cannot be added with integer type of value\n",
    "        to correct this expression we need to type cast the 99 to string\n",
    "        'I have eaten' + str(99) + 'burritos.'"
   ]
  }
 ],
 "metadata": {
  "kernelspec": {
   "display_name": "Python 3 (ipykernel)",
   "language": "python",
   "name": "python3"
  },
  "language_info": {
   "codemirror_mode": {
    "name": "ipython",
    "version": 3
   },
   "file_extension": ".py",
   "mimetype": "text/x-python",
   "name": "python",
   "nbconvert_exporter": "python",
   "pygments_lexer": "ipython3",
   "version": "3.9.7"
  }
 },
 "nbformat": 4,
 "nbformat_minor": 5
}
