{
 "cells": [
  {
   "cell_type": "markdown",
   "id": "56892bc9",
   "metadata": {},
   "source": [
    "### 1. Write a Python Program to Find the Factorial of a Number?"
   ]
  },
  {
   "cell_type": "code",
   "execution_count": 1,
   "id": "0d05d297",
   "metadata": {},
   "outputs": [
    {
     "name": "stdout",
     "output_type": "stream",
     "text": [
      "Please enter a number to find factorial: 5\n",
      "Factorial of number 5 is 120\n"
     ]
    }
   ],
   "source": [
    "number = int(input(\"Please enter a number to find factorial: \"))\n",
    "factorial = 1\n",
    "for i in range(1,number+1):\n",
    "    factorial*=i\n",
    "print(f\"Factorial of number {number} is {factorial}\")"
   ]
  },
  {
   "cell_type": "markdown",
   "id": "deddd5d9",
   "metadata": {},
   "source": [
    "### 2. Write a Python Program to Display the multiplication Table?"
   ]
  },
  {
   "cell_type": "code",
   "execution_count": 2,
   "id": "de0f8c4f",
   "metadata": {},
   "outputs": [
    {
     "name": "stdout",
     "output_type": "stream",
     "text": [
      "Please Enter number whoes table you want to print: 5\n",
      " 5 x 1 = 5 \n",
      " 5 x 2 = 10 \n",
      " 5 x 3 = 15 \n",
      " 5 x 4 = 20 \n",
      " 5 x 5 = 25 \n",
      " 5 x 6 = 30 \n",
      " 5 x 7 = 35 \n",
      " 5 x 8 = 40 \n",
      " 5 x 9 = 45 \n",
      " 5 x 10 = 50 \n"
     ]
    }
   ],
   "source": [
    "table_of = int(input(\"Please Enter number whoes table you want to print: \"))\n",
    "for i in range(1,11):\n",
    "    print(f\" {table_of} x {i} = {table_of*i} \")"
   ]
  },
  {
   "cell_type": "markdown",
   "id": "b917cb74",
   "metadata": {},
   "source": [
    "### 3. Write a Python Program to Print the Fibonacci sequence?"
   ]
  },
  {
   "cell_type": "code",
   "execution_count": 26,
   "id": "e2c03898",
   "metadata": {},
   "outputs": [
    {
     "name": "stdout",
     "output_type": "stream",
     "text": [
      "Please enter number of terms you want to print 'must be greater than 2' : 20\n",
      "0,1,1,2,3,5,8,13,21,34,55,89,144,233,377,610,987,1597,2584,4181,"
     ]
    }
   ],
   "source": [
    "# 0, 1, 1, 2, 3, 5, 8, 13, 21, 34, 55, 89, 144\n",
    "terms = int(input(\"Please enter number of terms you want to print 'must be greater than 2' : \"))\n",
    "first = 0\n",
    "second = 1\n",
    "print(first,second,end=',',sep=',')\n",
    "addition = first + second\n",
    "for i in range(1,terms-1):\n",
    "    first,second = second,(first+second)\n",
    "    print(second,end=',')"
   ]
  },
  {
   "cell_type": "markdown",
   "id": "cae109b0",
   "metadata": {},
   "source": [
    "### 4. Write a Python Program to Check Armstrong Number?"
   ]
  },
  {
   "cell_type": "code",
   "execution_count": 3,
   "id": "d4966ade",
   "metadata": {},
   "outputs": [
    {
     "name": "stdout",
     "output_type": "stream",
     "text": [
      "Please enter number: 371\n",
      "Given Number is a Armstrong Number !!\n"
     ]
    }
   ],
   "source": [
    "number = input(\"Please enter number: \")\n",
    "length_of_num = len(number)\n",
    "addition = 0\n",
    "for n in number:\n",
    "    addition += (int(n)**length_of_num)\n",
    "else:\n",
    "    if addition == int(number):\n",
    "        print(\"Given Number is a Armstrong Number !!\")\n",
    "    else:\n",
    "        print(\"Given Number is Not a Armstrong Number !!\")"
   ]
  },
  {
   "cell_type": "markdown",
   "id": "aab38b29",
   "metadata": {},
   "source": [
    "### 5. Write a Python Program to Find Armstrong Number in an Interval?"
   ]
  },
  {
   "cell_type": "code",
   "execution_count": 7,
   "id": "a6c30049",
   "metadata": {},
   "outputs": [
    {
     "name": "stdout",
     "output_type": "stream",
     "text": [
      "Start Of Range: 1\n",
      "End of Range: 999\n",
      "Armstrong Numbers are : [1, 2, 3, 4, 5, 6, 7, 8, 9, 153, 370, 371, 407]\n"
     ]
    }
   ],
   "source": [
    "start = int(input(\"Start Of Range: \"))\n",
    "end = int(input(\"End of Range: \"))\n",
    "armstrong_numbers = []\n",
    "for number in range(start,end):\n",
    "    number = str(number)\n",
    "    length_of_num = len(number)\n",
    "    addition = 0\n",
    "    for n in number:\n",
    "        addition += (int(n)**length_of_num)\n",
    "    else:\n",
    "        if addition == int(number):\n",
    "            armstrong_numbers.append(int(number))\n",
    "print(\"Armstrong Numbers are :\",armstrong_numbers)"
   ]
  },
  {
   "cell_type": "markdown",
   "id": "4e58e04e",
   "metadata": {},
   "source": [
    "### 6. Write a Python Program to Find the Sum of Natural Numbers?"
   ]
  },
  {
   "cell_type": "code",
   "execution_count": 16,
   "id": "4dd04147",
   "metadata": {},
   "outputs": [
    {
     "name": "stdout",
     "output_type": "stream",
     "text": [
      "Please Enter Number of terms to get sum : 6\n",
      "21\n"
     ]
    }
   ],
   "source": [
    "# sum of n natural terms is S = n(n+1)/2\n",
    "term = int(input(\"Please Enter Number of terms to get sum : \"))\n",
    "sum_of_term = term*(term+1)//2\n",
    "print(sum_of_term)"
   ]
  }
 ],
 "metadata": {
  "kernelspec": {
   "display_name": "Python 3 (ipykernel)",
   "language": "python",
   "name": "python3"
  },
  "language_info": {
   "codemirror_mode": {
    "name": "ipython",
    "version": 3
   },
   "file_extension": ".py",
   "mimetype": "text/x-python",
   "name": "python",
   "nbconvert_exporter": "python",
   "pygments_lexer": "ipython3",
   "version": "3.8.10"
  }
 },
 "nbformat": 4,
 "nbformat_minor": 5
}
