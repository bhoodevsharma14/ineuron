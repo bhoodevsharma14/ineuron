{
 "cells": [
  {
   "cell_type": "markdown",
   "id": "aa3bff56",
   "metadata": {},
   "source": [
    "### 1. What does an empty dictionary&#39;s code look like?"
   ]
  },
  {
   "cell_type": "code",
   "execution_count": 2,
   "id": "a93d5327",
   "metadata": {},
   "outputs": [],
   "source": [
    "# Empty Dictinary\n",
    "d = {}"
   ]
  },
  {
   "cell_type": "markdown",
   "id": "9f6748bd",
   "metadata": {},
   "source": [
    "### 2. What is the value of a dictionary value with the key &#39;foo&#39; and the value 42?"
   ]
  },
  {
   "cell_type": "code",
   "execution_count": 3,
   "id": "904ece04",
   "metadata": {},
   "outputs": [
    {
     "data": {
      "text/plain": [
       "dict_values([42])"
      ]
     },
     "execution_count": 3,
     "metadata": {},
     "output_type": "execute_result"
    }
   ],
   "source": [
    "# Dictionary with the key as foo and value as 42\n",
    "d = {'foo':42}\n",
    "\n",
    "# Value of dictionay value\n",
    "d.values()"
   ]
  },
  {
   "cell_type": "markdown",
   "id": "6b0193c9",
   "metadata": {},
   "source": [
    "### 3. What is the most significant distinction between a dictionary and a list?"
   ]
  },
  {
   "cell_type": "markdown",
   "id": "9aff2074",
   "metadata": {},
   "source": [
    "### Answer.\n",
    "    Dictionary : \n",
    "\n",
    "        - in dictionay data type data is stored in key value pair\n",
    "        - in sequence of data is preserved\n",
    "    List :\n",
    "\n",
    "        - in list data is stored at specific index\n",
    "        - in list sequence of data is preserved"
   ]
  },
  {
   "cell_type": "markdown",
   "id": "4e99a320",
   "metadata": {},
   "source": [
    "### 4. What happens if you try to access spam[&#39;foo&#39;] if spam is {&#39;bar&#39;: 100}?"
   ]
  },
  {
   "cell_type": "markdown",
   "id": "b997baea",
   "metadata": {},
   "source": [
    "### Answer.\n",
    "    spam = {'bar':100}\n",
    "\n",
    "    spam['foo']\n",
    "\n",
    "    it will throw keyError"
   ]
  },
  {
   "cell_type": "markdown",
   "id": "d46c1e7c",
   "metadata": {},
   "source": [
    "### 5. If a dictionary is stored in spam, what is the difference between the expressions &#39;cat&#39; in spam and &#39;cat&#39; in spam.keys()?"
   ]
  },
  {
   "cell_type": "markdown",
   "id": "bce185e6",
   "metadata": {},
   "source": [
    "### Answer.\n",
    "    The Two Expression are Differnt in only syntactic foam but they evaluate same thing.\n",
    "##### Both the Expressions are same\n",
    "    Expression :- 'cat' in spam\n",
    "                   By default this expression search is 'cat' is present in dict spam to be very specific key \n",
    "                   of the dict spam\n",
    "    Expression :- 'cat' in spam.keys()\n",
    "                   This expression is just defining that where we have to search the 'cat' in dict "
   ]
  },
  {
   "cell_type": "markdown",
   "id": "24557aec",
   "metadata": {},
   "source": [
    "### 6. If a dictionary is stored in spam, what is the difference between the expressions &#39;cat&#39; in spam and &#39;cat&#39; in spam.values()?"
   ]
  },
  {
   "cell_type": "markdown",
   "id": "8de44ad7",
   "metadata": {},
   "source": [
    "### Answer.\n",
    "    Expression :- 'cat' in spam\n",
    "                   It will check is there is any key name 'cat' is present in the dict spam\n",
    "    Expression :- 'cat' in spam.values()\n",
    "                   It will check is there is any value in who is exact equal to 'cat'."
   ]
  },
  {
   "cell_type": "markdown",
   "id": "53805350",
   "metadata": {},
   "source": [
    "### 7. What is a shortcut for the following code?\n",
    "if &#39;color&#39; not in spam:\n",
    "spam[&#39;color&#39;] = &#39;black&#39;"
   ]
  },
  {
   "cell_type": "code",
   "execution_count": 36,
   "id": "51664c06",
   "metadata": {},
   "outputs": [
    {
     "data": {
      "text/plain": [
       "{'color': 'black'}"
      ]
     },
     "execution_count": 36,
     "metadata": {},
     "output_type": "execute_result"
    }
   ],
   "source": [
    "# if color is not present in spam\n",
    "spam = {}\n",
    "\n",
    "# if color is present in spam\n",
    "# spam = {'color':'RED'} #if this line is commented than spam['color'] is assigned black color\n",
    "\n",
    "if 'color' not in spam:\n",
    "    spam['color'] = 'black'\n",
    "spam"
   ]
  },
  {
   "cell_type": "markdown",
   "id": "db8202ff",
   "metadata": {},
   "source": [
    "### 8. How do you &quot;pretty print&quot; dictionary values using which module and function?"
   ]
  },
  {
   "cell_type": "markdown",
   "id": "37bfa1b3",
   "metadata": {},
   "source": [
    "### Answer.\n",
    "    - To pretty print dictionay we need to import pprint,to do so\n",
    "        #code\n",
    "        import pprint\n",
    "    - The Function we use to print the data we call pprint with several argument.\n",
    "        #code\n",
    "        pprint.pprint(object,arguments)\n",
    "        eg:-\n",
    "            d = {'THis':1,'is':2,\"an\":3,'example':4,'thanks':5}\n",
    "            pprint.pprint(d,indent=1, width=5, depth=None, compact=False, sort_dicts=True)\n",
    "      \n",
    "    "
   ]
  },
  {
   "cell_type": "code",
   "execution_count": 23,
   "id": "dab4d334",
   "metadata": {},
   "outputs": [
    {
     "name": "stdout",
     "output_type": "stream",
     "text": [
      "{'THis': 1,\n",
      " 'an': 3,\n",
      " 'example': 4,\n",
      " 'is': 2,\n",
      " 'thanks': 5}\n"
     ]
    }
   ],
   "source": [
    "d = {'THis':1,'is':2,\"an\":3,'example':4,'thanks':5}\n",
    "pprint.pprint(d,indent=1, width=5, depth=None, compact=False, sort_dicts=True)"
   ]
  }
 ],
 "metadata": {
  "kernelspec": {
   "display_name": "Python 3 (ipykernel)",
   "language": "python",
   "name": "python3"
  },
  "language_info": {
   "codemirror_mode": {
    "name": "ipython",
    "version": 3
   },
   "file_extension": ".py",
   "mimetype": "text/x-python",
   "name": "python",
   "nbconvert_exporter": "python",
   "pygments_lexer": "ipython3",
   "version": "3.8.10"
  }
 },
 "nbformat": 4,
 "nbformat_minor": 5
}
