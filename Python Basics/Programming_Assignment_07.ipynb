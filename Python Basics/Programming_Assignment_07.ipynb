{
 "cells": [
  {
   "cell_type": "code",
   "execution_count": 1,
   "id": "03228810",
   "metadata": {},
   "outputs": [],
   "source": [
    "import numpy as np\n",
    "import random"
   ]
  },
  {
   "cell_type": "markdown",
   "id": "08637e62",
   "metadata": {},
   "source": [
    "#### 1. Write a Python Program to find sum of array?"
   ]
  },
  {
   "cell_type": "code",
   "execution_count": 2,
   "id": "8a6b9101",
   "metadata": {},
   "outputs": [
    {
     "data": {
      "text/plain": [
       "array([26, 23, 14,  1,  7, 21, 29, 10, 27, 13])"
      ]
     },
     "execution_count": 2,
     "metadata": {},
     "output_type": "execute_result"
    }
   ],
   "source": [
    "arr = np.array(random.sample(range(1, 30), 10))\n",
    "arr"
   ]
  },
  {
   "cell_type": "code",
   "execution_count": 3,
   "id": "0f1c461f",
   "metadata": {},
   "outputs": [
    {
     "data": {
      "text/plain": [
       "171"
      ]
     },
     "execution_count": 3,
     "metadata": {},
     "output_type": "execute_result"
    }
   ],
   "source": [
    "arr.sum()"
   ]
  },
  {
   "cell_type": "code",
   "execution_count": 4,
   "id": "43066431",
   "metadata": {},
   "outputs": [
    {
     "name": "stdout",
     "output_type": "stream",
     "text": [
      "sum of array elements :- 171\n"
     ]
    }
   ],
   "source": [
    "total_sum = 0\n",
    "for i in arr:\n",
    "    total_sum +=i\n",
    "else:\n",
    "    print(\"sum of array elements :-\",total_sum)"
   ]
  },
  {
   "cell_type": "markdown",
   "id": "64c9b3e6",
   "metadata": {},
   "source": [
    "#### 2. Write a Python Program to find largest element in an array?"
   ]
  },
  {
   "cell_type": "code",
   "execution_count": 5,
   "id": "cd101794",
   "metadata": {},
   "outputs": [
    {
     "data": {
      "text/plain": [
       "29"
      ]
     },
     "execution_count": 5,
     "metadata": {},
     "output_type": "execute_result"
    }
   ],
   "source": [
    "arr.max()"
   ]
  },
  {
   "cell_type": "code",
   "execution_count": 6,
   "id": "b7f2dfe4",
   "metadata": {},
   "outputs": [
    {
     "name": "stdout",
     "output_type": "stream",
     "text": [
      "max value in array is  29\n"
     ]
    }
   ],
   "source": [
    "max_value = 0\n",
    "for i in arr:\n",
    "    if max_value < i:\n",
    "        max_value = i\n",
    "else:\n",
    "    print(\"max value in array is \",max_value)"
   ]
  },
  {
   "cell_type": "markdown",
   "id": "27b09a87",
   "metadata": {},
   "source": [
    "#### 3. Write a Python Program for array rotation?"
   ]
  },
  {
   "cell_type": "code",
   "execution_count": 7,
   "id": "bcd4564c",
   "metadata": {},
   "outputs": [
    {
     "data": {
      "text/plain": [
       "array([13, 27, 10, 29, 21,  7,  1, 14, 23, 26])"
      ]
     },
     "execution_count": 7,
     "metadata": {},
     "output_type": "execute_result"
    }
   ],
   "source": [
    "arr[::-1]"
   ]
  },
  {
   "cell_type": "markdown",
   "id": "479a2c20",
   "metadata": {},
   "source": [
    "#### 4. Write a Python Program to Split the array and add the first part to the end?"
   ]
  },
  {
   "cell_type": "code",
   "execution_count": 8,
   "id": "b2381d19",
   "metadata": {},
   "outputs": [
    {
     "name": "stdout",
     "output_type": "stream",
     "text": [
      "[21 29 10 27 13 26 23 14  1  7]\n"
     ]
    }
   ],
   "source": [
    "if(len(arr) %2 ==0):\n",
    "    mid_value_index = len(arr)//2\n",
    "else:\n",
    "    mid_value_index = (len(arr)+1)//2\n",
    "\n",
    "a1 = arr[:mid_value_index]\n",
    "a2 = arr[mid_value_index:]\n",
    "\n",
    "new_arr = np.hstack((a2,a1)) \n",
    "print(new_arr)"
   ]
  },
  {
   "cell_type": "markdown",
   "id": "b18141c8",
   "metadata": {},
   "source": [
    "#### 5. Write a Python Program to check if given array is Monotonic?"
   ]
  },
  {
   "cell_type": "markdown",
   "id": "816a4edd",
   "metadata": {},
   "source": [
    "#### Answer.\n",
    "    An array is monotonic if it is either monotone increasing or monotone decreasing.\n",
    "    i.e. \n",
    "    - monotone increasing means next consecutive elements must be greater or equal to the previous element\n",
    "    - monotone decreasing means next consecutive elements must be smaller or equal to the previous element    "
   ]
  },
  {
   "cell_type": "code",
   "execution_count": 9,
   "id": "3aeb88c3",
   "metadata": {},
   "outputs": [],
   "source": [
    "def check_monotonic(arr):\n",
    "    status = (all(arr[i] <= arr[i + 1] for i in range(len(arr) - 1)) or all(arr[i] >= arr[i + 1] for i in range(len(arr) - 1)))\n",
    "    return \"Monotonic\" if status else \"Non-Monotonic\""
   ]
  },
  {
   "cell_type": "code",
   "execution_count": 10,
   "id": "0943a1da",
   "metadata": {},
   "outputs": [
    {
     "name": "stdout",
     "output_type": "stream",
     "text": [
      "The given array [26 23 14  1  7 21 29 10 27 13] is Non-Monotonic\n"
     ]
    }
   ],
   "source": [
    "# print(f\"The given array {arr} is {'Monotonic' if check_monotonic(arr) else 'Non-Monotonic'}\")\n",
    "print(f\"The given array {arr} is {check_monotonic(arr)}\")"
   ]
  },
  {
   "cell_type": "code",
   "execution_count": 11,
   "id": "3d25c83c",
   "metadata": {},
   "outputs": [
    {
     "name": "stdout",
     "output_type": "stream",
     "text": [
      "The given array [2, 2, 7, 8, 9, 9] is Monotonic\n"
     ]
    }
   ],
   "source": [
    "arr = [2,2,7,8,9,9]\n",
    "print(f\"The given array {arr} is {check_monotonic(arr)}\")"
   ]
  }
 ],
 "metadata": {
  "kernelspec": {
   "display_name": "Python 3 (ipykernel)",
   "language": "python",
   "name": "python3"
  },
  "language_info": {
   "codemirror_mode": {
    "name": "ipython",
    "version": 3
   },
   "file_extension": ".py",
   "mimetype": "text/x-python",
   "name": "python",
   "nbconvert_exporter": "python",
   "pygments_lexer": "ipython3",
   "version": "3.9.7"
  }
 },
 "nbformat": 4,
 "nbformat_minor": 5
}
