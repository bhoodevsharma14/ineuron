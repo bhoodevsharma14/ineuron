{
 "cells": [
  {
   "cell_type": "markdown",
   "id": "47e24caf",
   "metadata": {},
   "source": [
    "#### 1. What are escape characters, and how do you use them?"
   ]
  },
  {
   "cell_type": "markdown",
   "id": "86e53c11",
   "metadata": {},
   "source": [
    "#### Answer.\n",
    "        python have some special character when these characters are used inside the print statement or we can\n",
    "        say when they are evaluated they perform some operation.\n",
    "        some of the escape character in python :- \\t, \\n, \\b, \\' etc.\n",
    "        \n",
    "        here :- \\t is used to give tab-space\n",
    "        \\n is used to change the line\n",
    "        \\b is uesed to remove forward one blank space"
   ]
  },
  {
   "cell_type": "code",
   "execution_count": 1,
   "id": "f57d4c80",
   "metadata": {},
   "outputs": [
    {
     "name": "stdout",
     "output_type": "stream",
     "text": [
      "Hi_\tMy_Name_is\n",
      "_ \b_Bhoodev_Sharma\n"
     ]
    }
   ],
   "source": [
    "# This is an example of escape characters\n",
    "print(\"Hi_\\tMy_Name_is\\n_ \\b_Bhoodev_Sharma\")"
   ]
  },
  {
   "cell_type": "markdown",
   "id": "8dd57bd4",
   "metadata": {},
   "source": [
    "2. What do the escape characters n and t stand for?"
   ]
  },
  {
   "cell_type": "markdown",
   "id": "74fd7dc5",
   "metadata": {},
   "source": [
    "Answer.\n",
    "\n",
    "        n :- to start new line\n",
    "        t :- to provide tab-space\n",
    "        \n",
    "        eg."
   ]
  },
  {
   "cell_type": "code",
   "execution_count": 2,
   "id": "95f44271",
   "metadata": {},
   "outputs": [
    {
     "name": "stdout",
     "output_type": "stream",
     "text": [
      "This is \t an example of\n",
      "Escape Sequence\n"
     ]
    }
   ],
   "source": [
    "print(\"This is \\t an example of\\nEscape Sequence\")"
   ]
  },
  {
   "cell_type": "markdown",
   "id": "3bb9c759",
   "metadata": {},
   "source": [
    "#### 3. What is the way to include backslash characters in a string?"
   ]
  },
  {
   "cell_type": "markdown",
   "id": "6fd03e3e",
   "metadata": {},
   "source": [
    "#### Answer.\n",
    "      To Include \\ in sting we need to add \\\\ this will evaluated as single \\\n",
    "        eg."
   ]
  },
  {
   "cell_type": "code",
   "execution_count": 3,
   "id": "20465f2d",
   "metadata": {},
   "outputs": [
    {
     "name": "stdout",
     "output_type": "stream",
     "text": [
      "this is how we include \\ in printing a string\n"
     ]
    }
   ],
   "source": [
    "print(\"this is how we include \\\\ in printing a string\")"
   ]
  },
  {
   "cell_type": "markdown",
   "id": "7519df52",
   "metadata": {},
   "source": [
    "#### 4. The string &quot;Howl&#39;s Moving Castle&quot; is a correct value. Why isn&#39;t the single quote character in the word Howl&#39;s not escaped a problem?"
   ]
  },
  {
   "cell_type": "markdown",
   "id": "ae50dedb",
   "metadata": {},
   "source": [
    "#### Answer.\n",
    "       Since the sting is inside a double quotes so we can use single qoutes without using \\' ."
   ]
  },
  {
   "cell_type": "code",
   "execution_count": 4,
   "id": "7f2eb820",
   "metadata": {},
   "outputs": [
    {
     "name": "stdout",
     "output_type": "stream",
     "text": [
      "Howl's Moving Castle\n"
     ]
    }
   ],
   "source": [
    "print(\"Howl's Moving Castle\")"
   ]
  },
  {
   "cell_type": "code",
   "execution_count": 5,
   "id": "da110337",
   "metadata": {},
   "outputs": [
    {
     "ename": "SyntaxError",
     "evalue": "invalid syntax (2472779023.py, line 2)",
     "output_type": "error",
     "traceback": [
      "\u001b[0;36m  File \u001b[0;32m\"/tmp/ipykernel_22388/2472779023.py\"\u001b[0;36m, line \u001b[0;32m2\u001b[0m\n\u001b[0;31m    print('Howl's Moving Castle')\u001b[0m\n\u001b[0m                ^\u001b[0m\n\u001b[0;31mSyntaxError\u001b[0m\u001b[0;31m:\u001b[0m invalid syntax\n"
     ]
    }
   ],
   "source": [
    "# If we use sigle qoutes inside single qouted string we need to use \\' otherwise we got error\n",
    "print('Howl's Moving Castle')"
   ]
  },
  {
   "cell_type": "markdown",
   "id": "4c4efe02",
   "metadata": {},
   "source": [
    "#### 5. How do you write a string of newlines if you don&#39;t want to use the n character?"
   ]
  },
  {
   "cell_type": "code",
   "execution_count": 6,
   "id": "47dbdd89",
   "metadata": {},
   "outputs": [
    {
     "name": "stdout",
     "output_type": "stream",
     "text": [
      "This is how \n",
      "we can create multiple line string\n",
      "without using \\n\n"
     ]
    }
   ],
   "source": [
    "s = \"\"\"This is how \n",
    "we can create multiple line string\n",
    "without using \\\\n\"\"\"\n",
    "print(s)"
   ]
  },
  {
   "cell_type": "markdown",
   "id": "7ec56b07",
   "metadata": {},
   "source": [
    "#### 6. What are the values of the given expressions?\n",
    "\n",
    "&#39;Hello, world!&#39;[1]\n",
    "\n",
    "&#39;Hello, world!&#39;[0:5]\n",
    "\n",
    "&#39;Hello, world!&#39;[:5]\n",
    "\n",
    "&#39;Hello, world!&#39;[3:]"
   ]
  },
  {
   "cell_type": "markdown",
   "id": "bc359f3d",
   "metadata": {},
   "source": [
    "#### Answer.\n",
    "        'Hello, world!'[1] ==> e\n",
    "\n",
    "        'Hello, world!'[0:5] ==> Hello\n",
    "\n",
    "        'Hello, world!'[:5] ==> Hello\n",
    "\n",
    "        'Hello, world!'[3:] ==> lo,world!"
   ]
  },
  {
   "cell_type": "markdown",
   "id": "19d7ba61",
   "metadata": {},
   "source": [
    "#### 7. What are the values of the following expressions?\n",
    "\n",
    "'Hello'.upper()\n",
    "\n",
    "'Hello'.upper().isupper()\n",
    "\n",
    "'Hello'.upper().lower()"
   ]
  },
  {
   "cell_type": "markdown",
   "id": "c48ddb3e",
   "metadata": {},
   "source": [
    "#### Answer.\n",
    "        'Hello'.upper() ==> HELLO\n",
    "\n",
    "        'Hello'.upper().isupper() ==> True\n",
    "\n",
    "        'Hello'.upper().lower() ==> hello"
   ]
  },
  {
   "cell_type": "markdown",
   "id": "ec63f0be",
   "metadata": {},
   "source": [
    "#### 8. What are the values of the following expressions?\n",
    "\n",
    "'Remember, remember, the fifth of July.'.split()\n",
    "\n",
    "'-'.join('There can only one.'.split())"
   ]
  },
  {
   "cell_type": "markdown",
   "id": "16104a82",
   "metadata": {},
   "source": [
    "#### Answer.\n",
    "        'Remember, remember, the fifth of July.'.split() \n",
    "        #output will be list\n",
    "            ['Remember,', 'remember,', 'the', 'fifth', 'of', 'July.']\n",
    "\n",
    "        '-'.join('There can only one.'.split())\n",
    "        #output will be single sting \n",
    "            'There-can-only-one.'"
   ]
  },
  {
   "cell_type": "markdown",
   "id": "14f31412",
   "metadata": {},
   "source": [
    "#### 9. What are the methods for right-justifying, left-justifying, and centering a string?"
   ]
  },
  {
   "cell_type": "code",
   "execution_count": 7,
   "id": "9c984d85",
   "metadata": {},
   "outputs": [
    {
     "name": "stdout",
     "output_type": "stream",
     "text": [
      "Example of Right justifying, ********************************This is the string \n",
      "\n",
      "Example of Left justifying, This is the string******************************** \n",
      "\n",
      "Example of centering , ****************This is the string**************** \n",
      "\n"
     ]
    }
   ],
   "source": [
    "string = \"This is the string\"\n",
    "print(\"Example of Right justifying,\",string.rjust(50,'*'),'\\n')\n",
    "print(\"Example of Left justifying,\",string.ljust(50,'*'),'\\n')\n",
    "print(\"Example of centering ,\",string.center(50,'*'),'\\n')\n"
   ]
  },
  {
   "cell_type": "markdown",
   "id": "612a5624",
   "metadata": {},
   "source": [
    "#### 10. What is the best way to remove whitespace characters from the start or end?"
   ]
  },
  {
   "cell_type": "markdown",
   "id": "0fcf86b2",
   "metadata": {},
   "source": [
    "### Answer.\n",
    "        by using stip() mthod we can remove the whitespace from both side of the string\n",
    "        eg."
   ]
  },
  {
   "cell_type": "code",
   "execution_count": 8,
   "id": "ee025601",
   "metadata": {},
   "outputs": [
    {
     "name": "stdout",
     "output_type": "stream",
     "text": [
      "1.           This Is Example of removing whitespaces              \n",
      "2. This Is Example of removing whitespaces\n"
     ]
    }
   ],
   "source": [
    "print(\"1.\",\"          This Is Example of removing whitespaces              \")\n",
    "print(\"2.\",\"          This Is Example of removing whitespaces              \".strip())"
   ]
  }
 ],
 "metadata": {
  "kernelspec": {
   "display_name": "Python 3 (ipykernel)",
   "language": "python",
   "name": "python3"
  },
  "language_info": {
   "codemirror_mode": {
    "name": "ipython",
    "version": 3
   },
   "file_extension": ".py",
   "mimetype": "text/x-python",
   "name": "python",
   "nbconvert_exporter": "python",
   "pygments_lexer": "ipython3",
   "version": "3.9.7"
  }
 },
 "nbformat": 4,
 "nbformat_minor": 5
}
