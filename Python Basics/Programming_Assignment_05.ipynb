{
 "cells": [
  {
   "cell_type": "markdown",
   "id": "774d45e8",
   "metadata": {},
   "source": [
    "### 1. Write a Python Program to Find LCM?"
   ]
  },
  {
   "cell_type": "code",
   "execution_count": 16,
   "id": "86a89a3d",
   "metadata": {},
   "outputs": [
    {
     "name": "stdout",
     "output_type": "stream",
     "text": [
      "Please Enter number1 : 43\n",
      "Please Enter number2 : 12\n",
      "LCM of 43 and 12 is 516\n"
     ]
    }
   ],
   "source": [
    "num1 = int(input(\"Please Enter number1 : \"))\n",
    "num2 = int(input(\"Please Enter number2 : \"))\n",
    "a , b = num1 , num2\n",
    "facts = []\n",
    "fact = 2\n",
    "lcm = 1\n",
    "max_among = num1 if num1 > num2 else num2\n",
    "while (num1 != 1 or num2 != 1) and (max_among >= fact):\n",
    "    if num1 % fact == 0:\n",
    "        add = True\n",
    "        num1 = num1 // fact\n",
    "    if num2 % fact == 0:\n",
    "        add = True\n",
    "        num2 = num2 // fact\n",
    "    if add:\n",
    "        facts.append(fact)\n",
    "        add = False\n",
    "    else:\n",
    "        fact += 1\n",
    "for f in facts:\n",
    "    lcm *= f\n",
    "else:\n",
    "    print(f\"LCM of {a} and {b} is {lcm}\")"
   ]
  },
  {
   "cell_type": "markdown",
   "id": "52258af1",
   "metadata": {},
   "source": [
    "### 2. Write a Python Program to Find HCF?"
   ]
  },
  {
   "cell_type": "code",
   "execution_count": 18,
   "id": "7ef91c3d",
   "metadata": {},
   "outputs": [
    {
     "name": "stdout",
     "output_type": "stream",
     "text": [
      "Please Enter number1 : 43\n",
      "Please Enter number2 : 56\n",
      "HCF of 43 and 56 is 1\n"
     ]
    }
   ],
   "source": [
    "num1 = int(input(\"Please Enter number1 : \"))\n",
    "num2 = int(input(\"Please Enter number2 : \"))\n",
    "a , b = num1 , num2\n",
    "facts = []\n",
    "fact = 2\n",
    "lcm = 1\n",
    "max_among = num1 if num1 > num2 else num2\n",
    "while (num1 != 1 or num2 != 1) and (max_among >= fact):\n",
    "    if num1 % fact == 0:\n",
    "        add = True\n",
    "        num1 = num1 // fact\n",
    "    if num2 % fact == 0:\n",
    "        add = True\n",
    "        num2 = num2 // fact\n",
    "    if add:\n",
    "        facts.append(fact)\n",
    "        add = False\n",
    "    else:\n",
    "        fact += 1\n",
    "for f in facts:\n",
    "    lcm *= f\n",
    "else:\n",
    "    print(f\"HCF of {a} and {b} is {a*b//lcm}\")"
   ]
  },
  {
   "cell_type": "markdown",
   "id": "99d18fc9",
   "metadata": {},
   "source": [
    "### 3. Write a Python Program to Convert Decimal to Binary, Octal and Hexadecimal?"
   ]
  },
  {
   "cell_type": "code",
   "execution_count": 40,
   "id": "5b3dca63",
   "metadata": {},
   "outputs": [
    {
     "name": "stdout",
     "output_type": "stream",
     "text": [
      "Please Enter A Number: 7\n",
      "\n",
      "number = 7 , binary = 111 , octal = 7 , hexadecimal = 7\n",
      "\n"
     ]
    }
   ],
   "source": [
    "number = int(input(\"Please Enter A Number: \"))\n",
    "num = number\n",
    "binary = []\n",
    "octal = []\n",
    "hexadecimal = []\n",
    "bi=''\n",
    "oc = ''\n",
    "he = ''\n",
    "\n",
    "while number!=0:\n",
    "    binary.append(number%2)\n",
    "    bi += str(number%2)\n",
    "    number = number//2\n",
    "number = num\n",
    "while number!=0:\n",
    "    octal.append(number%8)\n",
    "    oc += str(number%8)\n",
    "    number = number//8\n",
    "number = num\n",
    "while number != 0:\n",
    "    hexadecimal.append(number%16)\n",
    "    number = number//16\n",
    "for i in hexadecimal[::-1]:\n",
    "    he += str(i)\n",
    "\n",
    "print(f\"\"\"\n",
    "number = {num} , binary = {bi[::-1]} , octal = {oc[::-1]} , hexadecimal = {he}\n",
    "\"\"\")\n"
   ]
  },
  {
   "cell_type": "markdown",
   "id": "107c91b9",
   "metadata": {},
   "source": [
    "### 4. Write a Python Program To Find ASCII value of a character?"
   ]
  },
  {
   "cell_type": "code",
   "execution_count": 19,
   "id": "2e40432a",
   "metadata": {},
   "outputs": [
    {
     "name": "stdout",
     "output_type": "stream",
     "text": [
      "Please Enter Character: A\n",
      "ASCII of A is 65\n"
     ]
    }
   ],
   "source": [
    "char = input(\"Please Enter Character: \")\n",
    "print(f\"ASCII of {char} is {ord(char)}\")"
   ]
  },
  {
   "cell_type": "markdown",
   "id": "3c1cec8a",
   "metadata": {},
   "source": [
    "### 5. Write a Python Program to Make a Simple Calculator with 4 basic mathematical operations?"
   ]
  },
  {
   "cell_type": "code",
   "execution_count": 23,
   "id": "9ad9b183",
   "metadata": {},
   "outputs": [
    {
     "name": "stdout",
     "output_type": "stream",
     "text": [
      "Please Enter number1 : 18\n",
      "Please Enter number2 : 6\n",
      "\n",
      "    1. Addition\n",
      "    2. Substraction\n",
      "    3. Multiplication\n",
      "    4. Division\n",
      "    5. Change Number\n",
      "    6. exit\n",
      "    3\n",
      "\n",
      "Multiplication of 18 and 6 is 108\n",
      "\n",
      "    1. Addition\n",
      "    2. Substraction\n",
      "    3. Multiplication\n",
      "    4. Division\n",
      "    5. Change Number\n",
      "    6. exit\n",
      "    5\n",
      "\n",
      "Please Enter number1 : 24\n",
      "\n",
      "Please Enter number2 : 18\n",
      "\n",
      "    1. Addition\n",
      "    2. Substraction\n",
      "    3. Multiplication\n",
      "    4. Division\n",
      "    5. Change Number\n",
      "    6. exit\n",
      "    6\n"
     ]
    }
   ],
   "source": [
    "num1 = int(input(\"Please Enter number1 : \"))\n",
    "num2 = int(input(\"Please Enter number2 : \"))\n",
    "option = print_options()\n",
    "def print_options():\n",
    "    options = \"\"\"\n",
    "    1. Addition\n",
    "    2. Substraction\n",
    "    3. Multiplication\n",
    "    4. Division\n",
    "    5. Change Number\n",
    "    6. exit\n",
    "    \"\"\"\n",
    "    return int(input(options))\n",
    "\n",
    "while option in [1,2,3,4,5]:\n",
    "    if option == 1:\n",
    "        print(f\"\\nAdditon of {num1} and {num2} is {num1+num2}\")\n",
    "    elif option == 2:\n",
    "        print(f\"\\nSubstraction of {num1} and {num2} is {max(num1,num2) - min(num1,num2)}\")\n",
    "    elif option == 3:\n",
    "        print(f\"\\nMultiplication of {num1} and {num2} is {num1*num2}\")\n",
    "    elif option == 4:\n",
    "        print(f\"\\nDivision of {num1} and {num2} is {max(num1,num2)/min(num1,num2)}\")\n",
    "    elif option == 5:\n",
    "        num1 = int(input(\"\\nPlease Enter number1 : \"))\n",
    "        num2 = int(input(\"\\nPlease Enter number2 : \"))\n",
    "    option = print_options()"
   ]
  }
 ],
 "metadata": {
  "kernelspec": {
   "display_name": "Python 3 (ipykernel)",
   "language": "python",
   "name": "python3"
  },
  "language_info": {
   "codemirror_mode": {
    "name": "ipython",
    "version": 3
   },
   "file_extension": ".py",
   "mimetype": "text/x-python",
   "name": "python",
   "nbconvert_exporter": "python",
   "pygments_lexer": "ipython3",
   "version": "3.8.10"
  }
 },
 "nbformat": 4,
 "nbformat_minor": 5
}
