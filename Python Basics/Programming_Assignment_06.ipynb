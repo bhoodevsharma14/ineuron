{
 "cells": [
  {
   "cell_type": "markdown",
   "id": "3e453d21",
   "metadata": {},
   "source": [
    "### 1. Write a Python Program to Display Fibonacci Sequence Using Recursion?"
   ]
  },
  {
   "cell_type": "code",
   "execution_count": null,
   "id": "225d8423",
   "metadata": {},
   "outputs": [],
   "source": [
    "# Fibonacci Sequence\n",
    "def fibonacci(number: int)-> int:\n",
    "    if number <= 1:\n",
    "        return number\n",
    "    else:\n",
    "        return (fibonacci(number-1) + fibonacci(number-2))\n",
    "\n",
    "terms = int(input(\"Number of terms want to print: \"))\n",
    "for num in range(terms):\n",
    "    print(fibonacci(num))\n",
    "    "
   ]
  },
  {
   "cell_type": "markdown",
   "id": "1068fc72",
   "metadata": {},
   "source": [
    "### 2. Write a Python Program to Find Factorial of Number Using Recursion?"
   ]
  },
  {
   "cell_type": "code",
   "execution_count": null,
   "id": "7367312a",
   "metadata": {},
   "outputs": [],
   "source": [
    "def factorial(number:int)->int:\n",
    "    if number == 1:\n",
    "        return number\n",
    "    else:\n",
    "        return number*factorial(number-1)\n",
    "num = int(input(\"Please Enter Number to Get Factorial: \"))\n",
    "if num <=0:\n",
    "    print(\"Please enter a valid Positive Integer\")\n",
    "else:\n",
    "    print(f\"Factorial of {num} is {factorial(num)}\")"
   ]
  },
  {
   "cell_type": "markdown",
   "id": "e67e6941",
   "metadata": {},
   "source": [
    "### 3. Write a Python Program to calculate your Body Mass Index?"
   ]
  },
  {
   "cell_type": "code",
   "execution_count": null,
   "id": "1fe7fcb1",
   "metadata": {},
   "outputs": [],
   "source": [
    "# Body Mass Index\n",
    "def Calculate_BMI(weight:float,height:float)->None:\n",
    "    bmi = weight/(height**2)\n",
    "    if bmi<16.0:\n",
    "        category = \"Severe Thinness\"\n",
    "    elif bmi<17:\n",
    "        category = \"Moderate Thinness\"\n",
    "    elif bmi<18:\n",
    "        category = \"Mild Thinness\"\n",
    "    elif bmi<25:\n",
    "        category = \"Normal\"\n",
    "    elif bmi<30:\n",
    "        category = \"Overweight\"\n",
    "    elif bmi<35:\n",
    "        category = \"Obese Class I\"\n",
    "    elif bmi<40:\n",
    "        category = \"Obese Class II\"\n",
    "    else:\n",
    "        category = \"Obese Class III\"\n",
    "    print(f\"Your BMI is {bmi} and you are {category}\")\n",
    "    \n",
    "weight = float(input(\"Please Enter Weight in kilo-gram: \"))\n",
    "height = float(input(\"Please Enter Weight in meter: \"))\n",
    "Calculate_BMI(weight,height)"
   ]
  },
  {
   "cell_type": "markdown",
   "id": "fa6585be",
   "metadata": {},
   "source": [
    "### 4. Write a Python Program to calculate the natural logarithm of any number?"
   ]
  },
  {
   "cell_type": "code",
   "execution_count": null,
   "id": "c6cee01b",
   "metadata": {},
   "outputs": [],
   "source": [
    "import math\n",
    "num = int(input(\"Please enter a number: \"))\n",
    "print(f\"Natural log of {num} is {math.log(num)}\")"
   ]
  },
  {
   "cell_type": "markdown",
   "id": "1ae0568d",
   "metadata": {},
   "source": [
    "### 5. Write a Python Program for cube sum of first n natural numbers?"
   ]
  },
  {
   "cell_type": "code",
   "execution_count": null,
   "id": "a9466b51",
   "metadata": {},
   "outputs": [],
   "source": [
    "number = int(input(\"Please enter the number of terms want to find sum :\"))\n",
    "print(f\"Sum of given {number} natural terms is {((number**2)*(number+1)**2)/4}\")"
   ]
  }
 ],
 "metadata": {
  "kernelspec": {
   "display_name": "Python 3 (ipykernel)",
   "language": "python",
   "name": "python3"
  },
  "language_info": {
   "codemirror_mode": {
    "name": "ipython",
    "version": 3
   },
   "file_extension": ".py",
   "mimetype": "text/x-python",
   "name": "python",
   "nbconvert_exporter": "python",
   "pygments_lexer": "ipython3",
   "version": "3.8.10"
  }
 },
 "nbformat": 4,
 "nbformat_minor": 5
}
