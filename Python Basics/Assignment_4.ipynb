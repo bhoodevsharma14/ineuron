{
 "cells": [
  {
   "cell_type": "markdown",
   "metadata": {},
   "source": [
    "### 1. What exactly is []?"
   ]
  },
  {
   "cell_type": "markdown",
   "metadata": {},
   "source": [
    "### Answer.\n",
    "        [] is a denotation of List data type in python.\n",
    "        List is data type in python which is able to store multiple values in one variable.\n",
    "        syntax:- \n",
    "                l = [1,\"sd\",23.465,{\"name\":\"bhoodev\"}]"
   ]
  },
  {
   "cell_type": "markdown",
   "metadata": {},
   "source": [
    "### 2. In a list of values stored in a variable called spam, how would you assign the value &#39;hello&#39; as the third value? (Assume [2, 4, 6, 8, 10] are in spam.)"
   ]
  },
  {
   "cell_type": "code",
   "execution_count": 1,
   "metadata": {},
   "outputs": [],
   "source": [
    "spam = [2,4,6,8,10]\n",
    "spam[2] = \"hello\""
   ]
  },
  {
   "cell_type": "markdown",
   "metadata": {},
   "source": [
    "## Let&#39;s pretend the spam includes the list [&#39;a&#39;, &#39;b&#39;, &#39;c&#39;, &#39;d&#39;] for the next three queries."
   ]
  },
  {
   "cell_type": "markdown",
   "metadata": {},
   "source": [
    "### 3. What is the value of spam[int(int(&#39;3&#39; * 2) / 11)]?"
   ]
  },
  {
   "cell_type": "markdown",
   "metadata": {},
   "source": [
    "### Answer.\n",
    "            output will be => 'd'"
   ]
  },
  {
   "cell_type": "markdown",
   "metadata": {},
   "source": [
    "### 4. What is the value of spam[-1]?"
   ]
  },
  {
   "cell_type": "markdown",
   "metadata": {},
   "source": [
    "### Answer.\n",
    "            output => 'd'"
   ]
  },
  {
   "cell_type": "markdown",
   "metadata": {},
   "source": [
    "### 5. What is the value of spam[:2]?"
   ]
  },
  {
   "cell_type": "markdown",
   "metadata": {},
   "source": [
    "### Answer.\n",
    "        output => ['a','b']"
   ]
  },
  {
   "cell_type": "markdown",
   "metadata": {},
   "source": [
    "##  Let&#39;s pretend bacon has the list [3.14, &#39;cat,&#39; 11, &#39;cat,&#39; True] for the next three questions."
   ]
  },
  {
   "cell_type": "markdown",
   "metadata": {},
   "source": [
    "### 6. What is the value of bacon.index(&#39;cat&#39;)?"
   ]
  },
  {
   "cell_type": "markdown",
   "metadata": {},
   "source": [
    "### Answer.\n",
    "        output => 1"
   ]
  },
  {
   "cell_type": "markdown",
   "metadata": {},
   "source": [
    "### 7. How does bacon.append(99) change the look of the list value in bacon?"
   ]
  },
  {
   "cell_type": "markdown",
   "metadata": {},
   "source": [
    "### Answer.\n",
    "        bacon will print => [3.14, 'cat,' 11, 'cat,' True,99]"
   ]
  },
  {
   "cell_type": "markdown",
   "metadata": {},
   "source": [
    "### 8. How does bacon.remove(&#39;cat&#39;) change the look of the list in bacon?"
   ]
  },
  {
   "cell_type": "markdown",
   "metadata": {},
   "source": [
    "### Answer.\n",
    "        bacon will print => [3.14,' 11, 'cat,' True,99]"
   ]
  },
  {
   "cell_type": "markdown",
   "metadata": {},
   "source": [
    "### 9. What are the list concatenation and list replication operators?"
   ]
  },
  {
   "cell_type": "markdown",
   "metadata": {},
   "source": [
    "### Answer.\n",
    "        list concatenation operator is + ,this is used to concatinate(join) two or more list\n",
    "        eg.\n",
    "            l1 = ['a','b','c']\n",
    "            l2 = [1,2,3]\n",
    "            l3 = l1 + l2\n",
    "            \n",
    "            Now l3 is => ['a','b','c',1,2,3]\n",
    "        List replication operator is *,replication operator make spicified number of copy of List and \n",
    "        concatinate them.\n",
    "        eg.\n",
    "            l4 = [1,'a',2,'B']\n",
    "            l4 * 3\n",
    "            output => [1, 'a', 2, 'B', 1, 'a', 2, 'B', 1, 'a', 2, 'B']"
   ]
  },
  {
   "cell_type": "markdown",
   "metadata": {},
   "source": [
    "### 10. What is difference between the list methods append() and insert()?"
   ]
  },
  {
   "cell_type": "markdown",
   "metadata": {},
   "source": [
    "### Answer.\n",
    "        append():- Append Method use to add element which is provided as argument in List at last position.\n",
    "        insert():- Insert Method take two argument first element to add, second index at which element get \n",
    "                   inserted.\n",
    "        l = [1,2,3,4,5]\n",
    "        l.append('a')\n",
    "        \n",
    "        l => [1,2,3,4,5,'a']\n",
    "        \n",
    "        l.insert('D',2)\n",
    "        l => [1,2,'D',3,4,5,'a']\n",
    "        "
   ]
  },
  {
   "cell_type": "markdown",
   "metadata": {},
   "source": [
    "### 11. What are the two methods for removing items from a list?"
   ]
  },
  {
   "cell_type": "markdown",
   "metadata": {},
   "source": [
    "### Answer.\n",
    "        1. pop() :- pop method is used to remove an element from specific index if index is not provided it\n",
    "                    it will remove last element by default and return the element\n",
    "                    eg.\n",
    "                        l = [1,2,'D',3,4,5,'a']\n",
    "                        removed_element = l.pop()\n",
    "                        removed_element => 'a'\n",
    "                    \n",
    "        2. remove() :- remove method take value as argument we want to remove from the list.\n",
    "                       eg.\n",
    "                           l = [1,2,'D',3,4,5,'a']\n",
    "                           l.remove('D')\n",
    "                           l => [1,2,3,4,5,'a']"
   ]
  },
  {
   "cell_type": "markdown",
   "metadata": {},
   "source": [
    "### 12. Describe how list values and string values are identical."
   ]
  },
  {
   "cell_type": "markdown",
   "metadata": {},
   "source": [
    "### Answer.\n",
    "        List values and string values are identical because bith stores the values in form of index.\n",
    "        l = [1,2,3,4,5,6,7,8,9]\n",
    "        s = \"BHOODEV SHARMA\"\n",
    "        \n",
    "        if i want to know the element present at specific index of list or string we use slicing operator.\n",
    "        l[5] => 6\n",
    "        s[5] => 'E'\n",
    "\n",
    "        if we want to print reverse of the list or string.\n",
    "        l[::-1] => [9, 8, 7, 6, 5, 4, 3, 2, 1]\n",
    "        s[::-1] => 'AMRAHS VEDOOHB'\n",
    "        \n",
    "        We can perform all the slicing operation on both list and string,because they use to store the element\n",
    "        in indexing format.\n",
    "        the only difference is the List is mutable and String is immutable"
   ]
  },
  {
   "cell_type": "markdown",
   "metadata": {},
   "source": [
    "### 13. What&#39;s the difference between tuples and lists?"
   ]
  },
  {
   "cell_type": "markdown",
   "metadata": {},
   "source": [
    "### Answer.\n",
    "        Tuples are immutable and list is mutable"
   ]
  },
  {
   "cell_type": "markdown",
   "metadata": {},
   "source": [
    "### 14. How do you type a tuple value that only contains the integer 42?"
   ]
  },
  {
   "cell_type": "markdown",
   "metadata": {},
   "source": [
    "### Answer.\n",
    "        t = (42,)"
   ]
  },
  {
   "cell_type": "markdown",
   "metadata": {},
   "source": [
    "### 15. How do you get a list value&#39;s tuple form? How do you get a tuple value&#39;s list form?"
   ]
  },
  {
   "cell_type": "markdown",
   "metadata": {},
   "source": [
    "### Answer.\n",
    "        l1 = [1,2,3,4,5]\n",
    "        list to tuple\n",
    "        t1 = tuple(l1)\n",
    "        t1 => (1,2,3,4,5) \n",
    "        \n",
    "        t2 = (1,2,3,4,5)\n",
    "        tuple to list\n",
    "        l2 = list(t2)\n",
    "        l2 => [1,2,3,4,5]"
   ]
  },
  {
   "cell_type": "markdown",
   "metadata": {},
   "source": [
    "### 16. Variables that &quot;contain&quot; list values are not necessarily lists themselves. Instead, what do they contain?"
   ]
  },
  {
   "cell_type": "markdown",
   "metadata": {},
   "source": [
    "### Answer .\n",
    "    It is not necessary that variable should be of list type if it contain list values it can be possible that variable can be set,dict or tuple.\n",
    "    eg: l = [1,2,3,4,5,('a','b','c'),{'h':123,6789:\"sds\"},[10,20,30,40]]\n",
    "        here a list can contian any other data type also other than list\n",
    "    it may be possible that\n",
    "        t = (10,\"abcd\",{'a':1, 2:'b' },[1,2,3,4,5])\n",
    "        here a tuple is contianing number,string,dict and list inside it."
   ]
  },
  {
   "cell_type": "markdown",
   "metadata": {},
   "source": [
    "### 17. How do you distinguish between copy.copy() and copy.deepcopy()?\n"
   ]
  },
  {
   "cell_type": "markdown",
   "metadata": {},
   "source": [
    "### Answer.\n",
    "        copy.copy() :- This is also known as shallow copy, in shallow copy a new collection object is ceated \n",
    "                       and then popluated with the reference of the child object of the original collection \n",
    "                       object.\n",
    "                       \n",
    "                       Now if we make changes to the child reference of the new object and the same refence is\n",
    "                       used by the orignal object that the change is reflected in both the collections.\n",
    "                       \n",
    "        copy.deepcopy() :- In deep copy a new collection is created and than it get populated with the new \n",
    "                           object of the child that means it do not refers to the same object of the orignal \n",
    "                           collection child it have newly created object for it.\n",
    "                           \n",
    "                           Now as the new collection is not refering to the same child if any change is done \n",
    "                           in the new collection it will be the bounded to the newly created collection only.\n",
    "        "
   ]
  },
  {
   "cell_type": "code",
   "execution_count": 14,
   "metadata": {},
   "outputs": [
    {
     "name": "stdout",
     "output_type": "stream",
     "text": [
      " l :- [1, 2, [234, 4], 5]\n",
      "\n",
      "\n",
      " l1 :- [1, 2, [234, 4], 5]\n"
     ]
    }
   ],
   "source": [
    "# Example of copy.copy() {Shallow Copy}\n",
    "\n",
    "import copy\n",
    "l = [1,2,[3,4],5]\n",
    "l1 = copy.copy(l)\n",
    "\n",
    "# We are making changes in the New list\n",
    "l1[2][0] = 234\n",
    "\n",
    "# Changes are reflected in the orignal list l because both are refering to same location\n",
    "print(f\" l :- {l}\")\n",
    "print(\"\\n\")\n",
    "print(f\" l1 :- {l1}\")"
   ]
  },
  {
   "cell_type": "code",
   "execution_count": 15,
   "metadata": {},
   "outputs": [
    {
     "name": "stdout",
     "output_type": "stream",
     "text": [
      " l :- [1, 2, [3, 4], 5]\n",
      "\n",
      "\n",
      " l1 :- [1, 2, [455, 4], 5]\n"
     ]
    }
   ],
   "source": [
    "# Example of deep copy\n",
    "import copy\n",
    "\n",
    "l = [1,2,[3,4],5]\n",
    "l1 = copy.deepcopy(l)\n",
    "\n",
    "# Making Changes to New list\n",
    "l1[2][0] = 455\n",
    "\n",
    "print(f\" l :- {l}\")\n",
    "print(\"\\n\")\n",
    "print(f\" l1 :- {l1}\")"
   ]
  }
 ],
 "metadata": {
  "kernelspec": {
   "display_name": "Python 3 (ipykernel)",
   "language": "python",
   "name": "python3"
  },
  "language_info": {
   "codemirror_mode": {
    "name": "ipython",
    "version": 3
   },
   "file_extension": ".py",
   "mimetype": "text/x-python",
   "name": "python",
   "nbconvert_exporter": "python",
   "pygments_lexer": "ipython3",
   "version": "3.8.10"
  }
 },
 "nbformat": 4,
 "nbformat_minor": 2
}
