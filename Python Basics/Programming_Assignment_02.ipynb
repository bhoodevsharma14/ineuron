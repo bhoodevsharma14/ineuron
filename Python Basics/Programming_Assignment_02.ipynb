{
 "cells": [
  {
   "cell_type": "markdown",
   "id": "e8d584b9",
   "metadata": {},
   "source": [
    "### 1. Write a Python program to convert kilometers to miles?"
   ]
  },
  {
   "cell_type": "code",
   "execution_count": 3,
   "id": "0d16e368",
   "metadata": {},
   "outputs": [
    {
     "name": "stdout",
     "output_type": "stream",
     "text": [
      "Please Enter Distance in Kilometer:- 5\n",
      "\n",
      "5km equals to 3.125miles\n"
     ]
    }
   ],
   "source": [
    "# 1 mile = 1.60km\n",
    "# 1km = (1/1.6)mile\n",
    "km = int(input(\"Please Enter Distance in Kilometer:- \"))\n",
    "mile = km*(1/1.6)\n",
    "print(f\"\\n{km}km equals to {mile}miles\")"
   ]
  },
  {
   "cell_type": "markdown",
   "id": "b3589c08",
   "metadata": {},
   "source": [
    "### 2. Write a Python program to convert Celsius to Fahrenheit?"
   ]
  },
  {
   "cell_type": "code",
   "execution_count": 6,
   "id": "1685bc89",
   "metadata": {},
   "outputs": [
    {
     "name": "stdout",
     "output_type": "stream",
     "text": [
      "Please Enter Temperature: 0\n",
      "Temperature in Fahrenheit 32.0°F\n"
     ]
    }
   ],
   "source": [
    "# (0°C × 9/5) + 32 = 32°F\n",
    "c = int(input(\"Please Enter Temperature: \"))\n",
    "f = 32 + c*9/5\n",
    "print(f\"Temperature in Fahrenheit {f}°F\")"
   ]
  },
  {
   "cell_type": "markdown",
   "id": "7654d935",
   "metadata": {},
   "source": [
    "### 3. Write a Python program to display calendar?"
   ]
  },
  {
   "cell_type": "code",
   "execution_count": 10,
   "id": "da1b64e8",
   "metadata": {},
   "outputs": [
    {
     "name": "stdout",
     "output_type": "stream",
     "text": [
      "Enter Year: 2000\n",
      "Enter Month: 8\n",
      "\n",
      "    August 2000\n",
      "Mo Tu We Th Fr Sa Su\n",
      "    1  2  3  4  5  6\n",
      " 7  8  9 10 11 12 13\n",
      "14 15 16 17 18 19 20\n",
      "21 22 23 24 25 26 27\n",
      "28 29 30 31\n",
      "\n"
     ]
    }
   ],
   "source": [
    "import calendar\n",
    "yy = int(input(\"Enter Year: \"))\n",
    "mm = int(input(\"Enter Month: \"))\n",
    "print()\n",
    "print(calendar.month(yy,mm))"
   ]
  },
  {
   "cell_type": "markdown",
   "id": "a9ab01fc",
   "metadata": {},
   "source": [
    "### 4. Write a Python program to solve quadratic equation?"
   ]
  },
  {
   "cell_type": "code",
   "execution_count": 14,
   "id": "5e378583",
   "metadata": {},
   "outputs": [
    {
     "name": "stdout",
     "output_type": "stream",
     "text": [
      "Enter value of a: 1\n",
      "Enter value of b: 6\n",
      "Enter value of c: 5\n",
      "\n",
      "solution of quadratic equation is -1.0 and 5.0\n"
     ]
    }
   ],
   "source": [
    "# ax2 + bx + c = 0\n",
    "# quadratic equation have 2 solutions\n",
    "a = int(input(\"Enter value of a: \"))\n",
    "b = int(input(\"Enter value of b: \"))\n",
    "c = int(input(\"Enter value of c: \"))\n",
    "x1 = (-b + (b*b - 4*a*c)**0.5)/(2*a)\n",
    "x2 = (b + (b*b - 4*a*c)**0.5)/(2*a)\n",
    "print()\n",
    "print(f'solution of quadratic equation is {x1} and {x2}')"
   ]
  },
  {
   "cell_type": "markdown",
   "id": "0455c3ab",
   "metadata": {},
   "source": [
    "### 5. Write a Python program to swap two variables without temp variable?"
   ]
  },
  {
   "cell_type": "code",
   "execution_count": 16,
   "id": "718d7454",
   "metadata": {},
   "outputs": [
    {
     "name": "stdout",
     "output_type": "stream",
     "text": [
      "value of a = 14 , b = 98\n",
      "After swaping a = 98 and b = 14\n"
     ]
    }
   ],
   "source": [
    "a = 14\n",
    "b = 98\n",
    "print(f'value of a = {a} , b = {b}')\n",
    "a , b = b, a\n",
    "print(f\"After swaping a = {a} and b = {b}\")"
   ]
  }
 ],
 "metadata": {
  "kernelspec": {
   "display_name": "Python 3 (ipykernel)",
   "language": "python",
   "name": "python3"
  },
  "language_info": {
   "codemirror_mode": {
    "name": "ipython",
    "version": 3
   },
   "file_extension": ".py",
   "mimetype": "text/x-python",
   "name": "python",
   "nbconvert_exporter": "python",
   "pygments_lexer": "ipython3",
   "version": "3.9.7"
  }
 },
 "nbformat": 4,
 "nbformat_minor": 5
}
