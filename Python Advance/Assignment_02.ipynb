{
 "cells": [
  {
   "attachments": {},
   "cell_type": "markdown",
   "metadata": {},
   "source": [
    "## Q1. What is the relationship between classes and modules?\n",
    "<bold>Asnwer.</bold> <br> &emsp;\n",
    "Classes are the bluprint of similar entities. Suppose you have created different class for your project and now you want to call these class into another project or in same project so you can import these class that can be achived by moduler coding.\n",
    "Modules is collection of Classes and Methods which can be imported and used.\n"
   ]
  },
  {
   "attachments": {},
   "cell_type": "markdown",
   "metadata": {},
   "source": [
    "## Q2. How do you make instances and classes?\n",
    "<bold>Asnwer.</bold> <br> &emsp;"
   ]
  },
  {
   "cell_type": "code",
   "execution_count": 1,
   "metadata": {},
   "outputs": [],
   "source": [
    "# To create class we use class keyword\n",
    "class Vehical:\n",
    "    pass\n",
    "# To create instance of the class we need to call that class\n",
    "\n",
    "BMW = Vehical()\n",
    "# Here BMW is an instance of the class Vehical"
   ]
  },
  {
   "attachments": {},
   "cell_type": "markdown",
   "metadata": {},
   "source": [
    "## Q3. Where and how should be class attributes created?\n",
    "<bold>Asnwer.</bold> <br> &emsp;\n",
    "Class attribute is created inside the class but outside of any method. so it can be shared between all the instances if we create inside any method then it become instance attribute.<br> Eg."
   ]
  },
  {
   "cell_type": "code",
   "execution_count": 2,
   "metadata": {},
   "outputs": [
    {
     "data": {
      "text/plain": [
       "'Instance Attribue can be different for all the instances BUT Class Attribute is common for all the instances'"
      ]
     },
     "execution_count": 2,
     "metadata": {},
     "output_type": "execute_result"
    }
   ],
   "source": [
    "class Car:\n",
    "    wheels = 4 # here wheels is an class attribute\n",
    "\n",
    "    def __init__(self,engine):\n",
    "        self.engine = engine # here engine is an instance attribute \n",
    "\"\"\"Instance Attribue can be different for all the instances BUT Class Attribute is common for all the instances\"\"\""
   ]
  },
  {
   "attachments": {},
   "cell_type": "markdown",
   "metadata": {},
   "source": [
    "## Q4. Where and how are instance attributes created?\n"
   ]
  },
  {
   "cell_type": "code",
   "execution_count": 3,
   "metadata": {},
   "outputs": [
    {
     "data": {
      "text/plain": [
       "'Instance Attribue can be different for all the instances BUT Class Attribute is common for all the instances'"
      ]
     },
     "execution_count": 3,
     "metadata": {},
     "output_type": "execute_result"
    }
   ],
   "source": [
    "class Car:\n",
    "    wheels = 4 # here wheels is an class attribute\n",
    "\n",
    "    def __init__(self,engine):\n",
    "        self.engine = engine # here engine is an instance attribute \n",
    "\"\"\"Instance Attribue can be different for all the instances BUT Class Attribute is common for all the instances\"\"\""
   ]
  },
  {
   "attachments": {},
   "cell_type": "markdown",
   "metadata": {},
   "source": [
    "## Q5. What does the term &quot;self&quot; in a Python class mean?\n",
    "<bold>Asnwer.</bold> <br> &emsp;\n",
    "Whenever we create methods in class we pass default argument self, this refer to the instance of the class.<br>\n",
    "<br>\n",
    "class somthing:<br>\n",
    "    &emsp;def __ init __(self,msg):<br>\n",
    "    &emsp;&emsp;self.message = msg<br>\n",
    "<br><br>\n",
    "hello = somthing(\"say hi\")\n",
    "<br>\n",
    "\"\"\" internally what happening is ---> hello.message = 'say hi' \"\"\"\n",
    "\n"
   ]
  },
  {
   "attachments": {},
   "cell_type": "markdown",
   "metadata": {},
   "source": [
    "## Q6. How does a Python class handle operator overloading?\n",
    "<bold>Asnwer.</bold> <br> &emsp;The operator overloading in Python means provide extended meaning beyond their predefined operational meaning. Such as, we use the \"+\" operator for adding two integers as well as joining two strings or merging two lists. We can achieve this as the \"+\" operator is overloaded by the \"int\" class and \"str\" class.<br>Eg."
   ]
  },
  {
   "cell_type": "code",
   "execution_count": 6,
   "metadata": {},
   "outputs": [
    {
     "name": "stdout",
     "output_type": "stream",
     "text": [
      "Bhoodev Sharma\n",
      "50\n"
     ]
    },
    {
     "data": {
      "text/plain": [
       "'Here we can see we use only one operator (+) which is performing concatination of two string and adding two int this is and example of operator overloading.'"
      ]
     },
     "execution_count": 6,
     "metadata": {},
     "output_type": "execute_result"
    }
   ],
   "source": [
    "print(\"Bhoodev \" + \"Sharma\")\n",
    "print(14 + 36)\n",
    "\"\"\"Here we can see we use only one operator (+) which is performing concatination of two string and adding two int this is and example of operator overloading.\"\"\""
   ]
  },
  {
   "attachments": {},
   "cell_type": "markdown",
   "metadata": {},
   "source": [
    "## Q7. When do you consider allowing operator overloading of your classes?\n",
    "<bold>Asnwer.</bold> <br> &emsp;\n",
    "Python Classes handle operator overloading by using special methods called Magic methods or Dunder methods. These special methods usually begin and end with __ (double underscore)"
   ]
  },
  {
   "cell_type": "code",
   "execution_count": 8,
   "metadata": {},
   "outputs": [
    {
     "name": "stdout",
     "output_type": "stream",
     "text": [
      "Total No. of Employees are 15\n"
     ]
    }
   ],
   "source": [
    "class Department:\n",
    "    def __init__(self,no_emp):\n",
    "        self.no_emp = no_emp\n",
    "    \n",
    "    def __add__(self,other):\n",
    "        return self.no_emp + other.no_emp\n",
    "\n",
    "sales = Department(10)\n",
    "devlopment = Department(5)\n",
    "print(f\"Total No. of Employees are {sales+devlopment}\")\n"
   ]
  },
  {
   "attachments": {},
   "cell_type": "markdown",
   "metadata": {},
   "source": [
    "## Q8. What is the most popular form of operator overloading?\n"
   ]
  },
  {
   "cell_type": "code",
   "execution_count": 9,
   "metadata": {},
   "outputs": [
    {
     "name": "stdout",
     "output_type": "stream",
     "text": [
      "Sum -> 3\n",
      "String Concatenation -> bhoodev sharma\n"
     ]
    }
   ],
   "source": [
    "class A:\n",
    "    def __init__(self,a):\n",
    "        self.a = a\n",
    "    def __add__(self,o):\n",
    "        return self.a+o.a\n",
    "obj1 = A(1)\n",
    "obj2 = A(2)\n",
    "obj3 = A('bhoodev ')\n",
    "obj4 = A('sharma')\n",
    "print(f'Sum -> {obj1+obj2}')\n",
    "print(f'String Concatenation -> {obj3+obj4}')"
   ]
  },
  {
   "attachments": {},
   "cell_type": "markdown",
   "metadata": {},
   "source": [
    "## Q9. What are the two most important concepts to grasp in order to comprehend Python OOP code?\n",
    "<bold>Asnwer.</bold> <br> &emsp;Classes and objects are the two most important concepts to grasp in order to comprehend python OOP code as more formally objects are entities that represent instances of general abstract concept called class.\n",
    "\n",
    "Along with classes and objects the important concepts to grasp are:\n",
    "\n",
    "Inheritence\n",
    "\n",
    "Abstraction\n",
    "\n",
    "Polymorphism\n",
    "\n",
    "Encapsulation\n"
   ]
  }
 ],
 "metadata": {
  "kernelspec": {
   "display_name": "Python 3",
   "language": "python",
   "name": "python3"
  },
  "language_info": {
   "codemirror_mode": {
    "name": "ipython",
    "version": 3
   },
   "file_extension": ".py",
   "mimetype": "text/x-python",
   "name": "python",
   "nbconvert_exporter": "python",
   "pygments_lexer": "ipython3",
   "version": "3.10.6"
  },
  "orig_nbformat": 4,
  "vscode": {
   "interpreter": {
    "hash": "e7370f93d1d0cde622a1f8e1c04877d8463912d04d973331ad4851f04de6915a"
   }
  }
 },
 "nbformat": 4,
 "nbformat_minor": 2
}
