{
 "cells": [
  {
   "attachments": {},
   "cell_type": "markdown",
   "metadata": {},
   "source": [
    "#### Q1. What is the purpose of Python's OOP?\n",
    "<bold>Asnwer.</bold> <br> &emsp;\n",
    "OOPS provide clear structure of programme and enable the reusability of code "
   ]
  },
  {
   "attachments": {},
   "cell_type": "markdown",
   "metadata": {},
   "source": [
    "### Q2. Where does an inheritance search look for an attribute?\n",
    "<bold>Answer.</bold><br> &emsp; Inheritance search looks for an attribute first in the instance object then in the class from which the instance is created and then in the all superclasses from Botton to Top."
   ]
  },
  {
   "attachments": {},
   "cell_type": "markdown",
   "metadata": {},
   "source": [
    "### Q3. How do you distinguish between a class object and an instance object?\n",
    "<bold>Answer.</bold><br>&emsp;\n",
    "Everything in Python is an object such as integers, lists, dictionaries, functions and so on. Every object has a type and the object types are created using classes. Instance is an object that belongs to a class.<br>\n",
    "Eg. <br>\n",
    "x = 45   # here x is an object of integer type\n",
    "<br>\n",
    "class Car:<br>\n",
    "    &emsp;def engine_type():<br>\n",
    "        &emsp;&emsp;pass<br>\n",
    "<br>\n",
    "bmw = Car()<br>\n",
    "here bmw is an instance of class Car\n"
   ]
  },
  {
   "attachments": {},
   "cell_type": "markdown",
   "metadata": {},
   "source": [
    "#### Q4. What makes the first argument in a class's method function special?\n",
    "<bold>Answer.</bold><br>&emsp;\n"
   ]
  },
  {
   "attachments": {},
   "cell_type": "markdown",
   "metadata": {},
   "source": [
    "#### Q5. What is the purpose of the __init__ method?\n",
    "<bold>Answer.</bold><br>&emsp;\n",
    "__init__ is a constructor method which get invoved whenever an class instance is created it is used to insitialize the instance of the object.\n"
   ]
  },
  {
   "attachments": {},
   "cell_type": "markdown",
   "metadata": {},
   "source": [
    "#### Q6. What is the process for creating a class instance?\n",
    "<bold>Answer.</bold><br>&emsp;\n",
    "By creating class instance we can inherit the the class properties and methods to the instance and we can create multiple instance of the class having similar type of properties."
   ]
  },
  {
   "attachments": {},
   "cell_type": "markdown",
   "metadata": {},
   "source": [
    "#### Q7. What is the process for creating a class?\n",
    "<bold>Answer.</bold><br>&emsp;\n",
    "By creating a class we are defining a specific structure and properties to similart type of things.<br>\n",
    "eg.<br>\n",
    "class Car:<br>\n",
    "    &emsp;def __ init __(self,engine,wheels):<br>\n",
    "    &emsp;&emsp;self.engine = engine<br>\n",
    "    &emsp;&emsp;self.wheels = wheels<br><br>\n",
    "    &emsp;def blow_horn(self):<br>\n",
    "    &emsp;&emsp;print(\"HORN\")\n",
    "<br><br>\n",
    "here if we create 10 instance of class Car then all the instances having engin,wheel and blow_horn method.\n",
    "\n"
   ]
  },
  {
   "attachments": {},
   "cell_type": "markdown",
   "metadata": {},
   "source": [
    "#### Q8. How would you define the superclasses of a class?\n",
    "<bold>Answer.</bold><br>&emsp;\n",
    "eg.<br><br>\n",
    "class Vehical:<br>\n",
    "    &emsp;pass<br><br>\n",
    "class Bike(Vehical):<br>\n",
    "    &emsp;pass<br><br>\n",
    "\n",
    "here Vehical is the parent class and Bike Class inherit the properties of Vehical Class.So here we can say Vehical is the Super class of Bike."
   ]
  }
 ],
 "metadata": {
  "kernelspec": {
   "display_name": "Python 3",
   "language": "python",
   "name": "python3"
  },
  "language_info": {
   "codemirror_mode": {
    "name": "ipython",
    "version": 3
   },
   "file_extension": ".py",
   "mimetype": "text/x-python",
   "name": "python",
   "nbconvert_exporter": "python",
   "pygments_lexer": "ipython3",
   "version": "3.10.6"
  },
  "orig_nbformat": 4,
  "vscode": {
   "interpreter": {
    "hash": "e7370f93d1d0cde622a1f8e1c04877d8463912d04d973331ad4851f04de6915a"
   }
  }
 },
 "nbformat": 4,
 "nbformat_minor": 2
}
