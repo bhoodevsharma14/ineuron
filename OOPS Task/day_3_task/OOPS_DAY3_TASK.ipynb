{
 "cells": [
  {
   "cell_type": "markdown",
   "id": "f4cc3f15",
   "metadata": {},
   "source": [
    "# Inheritance"
   ]
  },
  {
   "cell_type": "markdown",
   "id": "dc0c16a2",
   "metadata": {},
   "source": [
    "### 1. Single Inheritance"
   ]
  },
  {
   "cell_type": "code",
   "execution_count": 1,
   "id": "4da64d1d",
   "metadata": {},
   "outputs": [
    {
     "name": "stdout",
     "output_type": "stream",
     "text": [
      "car is made of Carbon Fiber and having an V-Engine type of engine\n",
      "Milage of the car in XYZ!!\n",
      "\n",
      "tata nano having 4 stroke engine\n"
     ]
    }
   ],
   "source": [
    "class Car:\n",
    "    \n",
    "    def __init__(self,body,engine): # Constructor of Car class\n",
    "        self.body = body\n",
    "        self.engine = engine\n",
    "    \n",
    "    def milage(self):\n",
    "        print(\"Milage of the car in XYZ!!\")\n",
    "    pass\n",
    "\n",
    "car_obj = Car(\"Carbon Fiber\",\"V-Engine\") # Creating Object of Car class\n",
    "print(f\"car is made of {car_obj.body} and having an {car_obj.engine} type of engine\")\n",
    "car_obj.milage()\n",
    "\n",
    "        \n",
    "#Suppose Tata is also creating cars it can inherit the attributes and properties from Car class \n",
    "# like body,engine and milage\n",
    "\n",
    "class Tata(Car):\n",
    "    def manufactured(self):\n",
    "        print(\"this Tata Car is manufactured on dd-mm-yy date!!\")\n",
    "\n",
    "tata_nano = Tata('PDP',\"4 stroke\")  \n",
    "#here we are able to call the Car class init and create an Object of Tata class\n",
    "\n",
    "print(f\"\\ntata nano having {tata_nano.engine} engine\")"
   ]
  },
  {
   "cell_type": "markdown",
   "id": "09713da5",
   "metadata": {},
   "source": [
    "### 2 .Multilevel Inheritance"
   ]
  },
  {
   "cell_type": "code",
   "execution_count": 2,
   "id": "07476a4e",
   "metadata": {},
   "outputs": [
    {
     "name": "stdout",
     "output_type": "stream",
     "text": [
      "Milage of the car in XYZ!!\n",
      "this Tata Car is manufactured on dd-mm-yy date!!\n"
     ]
    }
   ],
   "source": [
    "# Here Jaguar in child of Tata class and Tata is child of Car class or we can say Jaguar is a grandchild of Car\n",
    "# This is an example of multilevel inheritance\n",
    "\n",
    "class Jaguar(Tata):\n",
    "    pass\n",
    "\n",
    "new_jag = Jaguar('Carbon Fiber',\"14 cylinder\")  # Creating Object of Jaguar class\n",
    "new_jag.milage()\n",
    "new_jag.manufactured()\n",
    "\n",
    "# Here we can see the object of Jaguar class inherits both Tata and Car class properties this is \n",
    "# a multilevel inheritance"
   ]
  },
  {
   "cell_type": "markdown",
   "id": "2a09d1ed",
   "metadata": {},
   "source": [
    "### 3. Multiple Inheritance"
   ]
  },
  {
   "cell_type": "markdown",
   "id": "14aa4a00",
   "metadata": {},
   "source": [
    "In multiple inheritance call inherites features from more than one class"
   ]
  },
  {
   "cell_type": "code",
   "execution_count": 3,
   "id": "b3f04cba",
   "metadata": {},
   "outputs": [
    {
     "name": "stdout",
     "output_type": "stream",
     "text": [
      "Good-Year\n"
     ]
    }
   ],
   "source": [
    "class Tyres:\n",
    "    def __init__(self,tyre_brand):\n",
    "        self.brand = tyre_brand\n",
    "    def brand_name(self):\n",
    "        print(self.brand)\n",
    "\n",
    "# Here a new car company\n",
    "class Mahindra(Car,Tyres):\n",
    "    pass\n",
    "\n",
    "new_mahindra_car = Mahindra(\"Steel Body\",\"Diesel Engine\") # init of car is called\n",
    "new_mahindra_car.brand = \"Good-Year\" # Tyres class variable\n",
    "new_mahindra_car.brand_name()  # calling Tyre class method\n",
    "\n",
    "# here we can see Mahindra is inheriting from two different class"
   ]
  },
  {
   "cell_type": "markdown",
   "id": "8b863832",
   "metadata": {},
   "source": [
    "# PACKAGEING EXAMPLE"
   ]
  },
  {
   "cell_type": "markdown",
   "id": "b480374b",
   "metadata": {},
   "source": [
    "I have created package name ineuron in same directory"
   ]
  },
  {
   "cell_type": "markdown",
   "id": "b1162f23",
   "metadata": {},
   "source": [
    "implimenting student and courses of ineuron are the example of abstraction and encapsulation\n",
    "\n",
    "1. asbstraction we are hiding business logic from the users\n",
    "2. encaptsulation we are puting same type of attributes and properties of together in one class"
   ]
  },
  {
   "cell_type": "code",
   "execution_count": 4,
   "id": "115bdebc",
   "metadata": {},
   "outputs": [],
   "source": [
    "from ineuron.ineuroncourses import ineuronCourses\n",
    "from ineuron.ineuronstudent import ineuronStudent"
   ]
  },
  {
   "cell_type": "markdown",
   "id": "90429784",
   "metadata": {},
   "source": [
    "### adding courses in ineuronCourses"
   ]
  },
  {
   "cell_type": "code",
   "execution_count": 5,
   "id": "287e69da",
   "metadata": {},
   "outputs": [],
   "source": [
    "# creating object of ineuroncourses\n",
    "new_course = ineuronCourses()"
   ]
  },
  {
   "cell_type": "code",
   "execution_count": 6,
   "id": "d973b1c1",
   "metadata": {},
   "outputs": [
    {
     "name": "stdout",
     "output_type": "stream",
     "text": [
      "New Course Added\n",
      "New Course Added\n",
      "New Course Added\n"
     ]
    }
   ],
   "source": [
    "# adding courses to the ineuroncourses class\n",
    "new_course.add_course(\"FSDS\",17200)\n",
    "new_course.add_course(\"Automation Testing\",17000)\n",
    "new_course.add_course(\"JAVA\",17900)"
   ]
  },
  {
   "cell_type": "code",
   "execution_count": 7,
   "id": "d6a3bfc6",
   "metadata": {},
   "outputs": [
    {
     "data": {
      "text/plain": [
       "{'FSDS': 17200, 'Automation Testing': 17000, 'JAVA': 17900}"
      ]
     },
     "execution_count": 7,
     "metadata": {},
     "output_type": "execute_result"
    }
   ],
   "source": [
    "# calling a protected method _show_courses()\n",
    "# all_courses = new_course._show_courses()\n",
    "all_courses = ineuronCourses._show_courses()\n",
    "all_courses"
   ]
  },
  {
   "cell_type": "code",
   "execution_count": 8,
   "id": "e3fd31b3",
   "metadata": {},
   "outputs": [
    {
     "name": "stdout",
     "output_type": "stream",
     "text": [
      "Hello this is an ineuroncourses class object!!\n"
     ]
    }
   ],
   "source": [
    "# method which is going to be override in ineuronstudent class\n",
    "new_course.show_details()"
   ]
  },
  {
   "cell_type": "code",
   "execution_count": 9,
   "id": "3c93a965",
   "metadata": {},
   "outputs": [
    {
     "data": {
      "text/plain": [
       "{'FSDS': 17200, 'Automation Testing': 17000, 'JAVA': 17900}"
      ]
     },
     "execution_count": 9,
     "metadata": {},
     "output_type": "execute_result"
    }
   ],
   "source": [
    "# Accessing Private Variable of ineuroncourses Class\n",
    "new_course._ineuronCourses__courses"
   ]
  },
  {
   "cell_type": "markdown",
   "id": "76823e55",
   "metadata": {},
   "source": [
    "### Now We are creating object of ineuronStudent class"
   ]
  },
  {
   "cell_type": "code",
   "execution_count": 10,
   "id": "89e609cf",
   "metadata": {},
   "outputs": [],
   "source": [
    "new_student = ineuronStudent(\"bhoodev\")"
   ]
  },
  {
   "cell_type": "code",
   "execution_count": 11,
   "id": "214903e1",
   "metadata": {},
   "outputs": [
    {
     "name": "stdout",
     "output_type": "stream",
     "text": [
      "Please Select a course:-\n",
      "Course Name: FSDS, Course Price: 17200 \n",
      "Course Name: Automation Testing, Course Price: 17000 \n",
      "Course Name: JAVA, Course Price: 17900 \n",
      "\n",
      "Please enter the name of course you want to buy or zero(0) to exit:-FSDS\n"
     ]
    }
   ],
   "source": [
    "new_student.buy_course()"
   ]
  },
  {
   "cell_type": "code",
   "execution_count": 12,
   "id": "260d293d",
   "metadata": {},
   "outputs": [
    {
     "name": "stdout",
     "output_type": "stream",
     "text": [
      "Here are the courses you have purchased:\n",
      "Course Name: FSDS, Course Price: 17200 \n"
     ]
    }
   ],
   "source": [
    "# to see the purchased courses by the student\n",
    "new_student.show_courses()"
   ]
  },
  {
   "cell_type": "code",
   "execution_count": 13,
   "id": "06db35dc",
   "metadata": {},
   "outputs": [
    {
     "name": "stdout",
     "output_type": "stream",
     "text": [
      "Hello this is an ineuronStudent Class Object!!!\n"
     ]
    }
   ],
   "source": [
    "# Here is the method over-ridden \n",
    "new_student.show_details()"
   ]
  }
 ],
 "metadata": {
  "kernelspec": {
   "display_name": "Python 3 (ipykernel)",
   "language": "python",
   "name": "python3"
  },
  "language_info": {
   "codemirror_mode": {
    "name": "ipython",
    "version": 3
   },
   "file_extension": ".py",
   "mimetype": "text/x-python",
   "name": "python",
   "nbconvert_exporter": "python",
   "pygments_lexer": "ipython3",
   "version": "3.9.7"
  }
 },
 "nbformat": 4,
 "nbformat_minor": 5
}
